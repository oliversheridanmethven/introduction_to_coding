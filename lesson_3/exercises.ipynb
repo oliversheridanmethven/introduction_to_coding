{
 "cells": [
  {
   "cell_type": "markdown",
   "metadata": {
    "collapsed": true
   },
   "source": [
    "# Oxford international college\n",
    "\n",
    "## An introduction to coding\n",
    "\n",
    "### Lesson 3\n",
    "\n",
    "#### Author\n",
    "\n",
    "Oliver Sheridan-Methven\n",
    "\n",
    "##### Date\n",
    "\n",
    "September 2017.\n",
    "    \n",
    "#### Description:\n",
    "\n",
    "An introduction to the three main python packages:\n",
    "   \n",
    " * Numpy\n",
    " * Matplotlib \n",
    " * Pandas\n",
    " \n"
   ]
  },
  {
   "cell_type": "markdown",
   "metadata": {},
   "source": [
    "## Exercises\n",
    "\n",
    "### Pandas\n",
    "\n",
    "Read through this [10 minute introduction to pandas](https://pandas.pydata.org/pandas-docs/stable/10min.html).\n",
    "\n",
    "The power of pandas is its ability to merge datasets, and this could be a whole course in itself, so have a read through it's [merging, joining, and concatenating](https://pandas.pydata.org/pandas-docs/stable/merging.html) capabilities. For anyone still keen on knowing some great pandas functionality, see pandas `Series` and `groupby`.\n",
    "\n",
    "### Numpy\n",
    "\n",
    "Numpy has most of the maths functions you will ever need. Create some arrays using `np.linspace`, `np.logspace`, and `np.arange`, and check you can use these with `np.sin`, `np.exp`, etc.\n",
    "\n",
    "Using numpy, solve:\n",
    "\n",
    "```\n",
    "3x + 2y - 5z =  12\n",
    " x - 3y + 2z = -13\n",
    "5x -  y + 4z =  10\n",
    "```\n"
   ]
  },
  {
   "cell_type": "markdown",
   "metadata": {},
   "source": [
    "### Matplotlib\n",
    "\n",
    "Try to generate the following plots (or something that looks similar) using matplotlib. \n",
    "\n"
   ]
  },
  {
   "cell_type": "markdown",
   "metadata": {},
   "source": [
    "![picture](figures/example_plot1.png \"picture\")\n",
    "![picture](figures/example_plot2.png \"picture\")\n",
    "![picture](figures/example_plot3.png \"picture\")\n",
    "![picture](figures/example_plot4.png \"picture\")\n",
    "![picture](figures/example_plot5.png \"picture\")\n",
    "![picture](figures/example_plot6.png \"picture\")\n",
    "![picture](figures/example_plot7.png \"picture\")\n",
    "![picture](figures/example_plot8.png \"picture\")\n",
    "![picture](figures/example_plot9.png \"picture\")\n",
    "![picture](figures/example_plot10.png \"picture\")\n",
    "![picture](figures/example_plot11.png \"picture\")"
   ]
  },
  {
   "cell_type": "markdown",
   "metadata": {},
   "source": [
    ""
   ]
  }
 ],
 "metadata": {
  "kernelspec": {
   "display_name": "Python 2",
   "language": "python",
   "name": "python2"
  },
  "language_info": {
   "codemirror_mode": {
    "name": "ipython",
    "version": 2
   },
   "file_extension": ".py",
   "mimetype": "text/x-python",
   "name": "python",
   "nbconvert_exporter": "python",
   "pygments_lexer": "ipython2",
   "version": "2.7.6"
  }
 },
 "nbformat": 4,
 "nbformat_minor": 0
}
