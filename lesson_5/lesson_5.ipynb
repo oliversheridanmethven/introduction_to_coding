{
 "cells": [
  {
   "cell_type": "markdown",
   "metadata": {
    "collapsed": true
   },
   "source": [
    "# Oxford international college\n",
    "\n",
    "## Introduction to coding \n",
    "\n",
    "### Author\n",
    "\n",
    "[Oliver Sheridan-Methven](mailto:oliver.sheridan-methven@maths.ox.ac.uk).\n",
    "\n",
    "#### Date\n",
    "\n",
    "December 2017.\n",
    "\n",
    "## Lesson 5\n",
    "\n",
    "\n",
    "### Description\n",
    "\n",
    "In this lesson we will introduce classes.\n",
    "\n",
    " * Grouping objects into classes. \n",
    " * Member functions and data. \n",
    " * Inheritance. "
   ]
  },
  {
   "cell_type": "markdown",
   "metadata": {},
   "source": [
    "## Classes\n",
    "\n",
    "Python is an *object oriented programming (OOP) language*. This is in contrast to *functional programming languages* such as C or Fortran. \n",
    "\n",
    ">Whether a programming language is object oriented or functional does not determine whether it is a compiled or an interpreted language. Python is OOP and traditionally \"interpreted\", while C++ is still OOP but is a compiled language. This distinction is only for convenience though, and [it is possible to construct a compiler or an interpreter for any language](https://softwareengineering.stackexchange.com/a/245053/277976). \n",
    "\n",
    "Typically when building software/code for an application, we have some sort of entity which we are trying to manipulate/transform/process. This could be taking some data and bundling this into a structure to display, such as in a web query, or a set of files or images and performing some operation on these (compression, archiving, etc.). \n",
    "\n",
    "The key feature underlying this is that we typically have some form of an underlying structure, possibly a few of these, which are usually distinct and fall into a few sets of distinct objects. These typically have their own set of unique or esoteric operations which we would like to perform. We try to bundling our information and code into these object like structures. The reason for this is because it makes our code easier to read, modify, maintain, and understand. "
   ]
  },
  {
   "cell_type": "markdown",
   "metadata": {},
   "source": [
    "### Polygons, Rectangles, and Squares.\n",
    "\n",
    "To illustrate the ideas of a class, we will create some objects to represent geometric structures. Specifically, we will represent polygons, and consider some special cases, such as triangles, rectangles, etc. \n",
    "\n",
    "Notice that: \n",
    " * Polygons are not considered to be simple (i.e. edges can intersect).\n",
    " * Polygons require 3 or more edges. \n",
    " * Triangles and rectangles are special cases of polygons. \n",
    " * Triangles are different from rectangles.\n",
    " * Squares are a special case of rectangles. \n",
    " * Given the length of all the sides of a triangle we can determine its area. \n",
    "\t>(While this is not true for a general quadrilateral, it is true for rectangles).\n",
    "\n",
    "To get an overall idea of the Polygon structure, we can consider the following structure:\n",
    "```\t\n",
    "Polygons\n",
    "├── Quadrilaterals\n",
    "│   ├── Kites\n",
    "│   ├── Rectangles\n",
    "│   │   └── Squares\n",
    "│   └── Trapeziums\n",
    "└── Triangles\n",
    "    ├── Equilateral\n",
    "    ├── Right_Angled\n",
    "    └── Scalene\n",
    "```"
   ]
  },
  {
   "cell_type": "markdown",
   "metadata": {},
   "source": [
    "The basic structure of a class object is the following:\n",
    "\n",
    "```\n",
    "class ClassName:  # \"ClassName(object)\" is the newer style. \n",
    "\t\"\"\" Brief description ... \"\"\"\n",
    "\n",
    "\t_class_variables = ...\n",
    "\n",
    "\tdef some_class_method(self, ...):\n",
    "\t\t...\n",
    "```\n",
    "\n",
    "We give the object a name (e.g. `ClassName`), where the convention is to use \"PascalCase\" for the name. \n",
    "\n",
    "Class variables/attributes are best declared at the top (and kept to a minimum). These have a single leading underscore by convention (and a double underscore if they are class specific and not to be inherited).\n",
    "\n",
    "Classes typically have methods and functionality associated with them. To make this clear we bind functionality to a class instance by using the `self` keyword.\n",
    "\n",
    "> Actually `self` is not a keyword, as explained by Guido van Rossum in his blog post: [Why explicit self has to stay](http://neopythonic.blogspot.co.uk/2008/10/why-explicit-self-has-to-stay.html).\n",
    "\n",
    "If a method is intended to be called using the class then it must contain the `self` argument. If it does not contain the `self` argument then it is a function which will exist in the class scope, but cannot be called from a class instance. These unbounded functions, while still helpful, are typically not needed *within* the class definition. \n"
   ]
  },
  {
   "cell_type": "markdown",
   "metadata": {},
   "source": [
    "To make this clearer we begin by making the core example class, which we will call `Polygon`:\n",
    "\n"
   ]
  },
  {
   "cell_type": "code",
   "execution_count": 35,
   "metadata": {},
   "outputs": [],
   "source": [
    "class Polygon(object):\n",
    "    \"\"\"Polygons and other types of shapes.\"\"\"\n",
    "    _edges = None\n",
    "\n",
    "    def __init__(self, n_edges):\n",
    "        self._edges = n_edges\n",
    "        # Implicitly we return self."
   ]
  },
  {
   "cell_type": "markdown",
   "metadata": {},
   "source": [
    "In the above we have one class variable `_edges`, and one class method, called `__init__`. Here `__init__` is a special method (reserved) which stands for initialisation. When we create a method for the first time, e.g. `p = Polygon(5)`, this uses `__init__()` and is actually `p = Polygon.__init__(5)`. Hence we see this requires a number of edges to be specified when the instance is created. This instance is known as `self`. \n",
    "\n",
    "We would like to be able to determine what type of shape we are dealing with, and so we add a class method and variable to achieve this:"
   ]
  },
  {
   "cell_type": "code",
   "execution_count": 36,
   "metadata": {},
   "outputs": [],
   "source": [
    "class Polygon(object):\n",
    "    \"\"\"Polygons and other types of shapes.\"\"\"\n",
    "    _edges = None\n",
    "    _shape = None\n",
    "\n",
    "    def __init__(self, n_edges):\n",
    "        assert isinstance(n_edges, int), \\\n",
    "            'Please specify an integer number of edges.'\n",
    "        assert n_edges >= 3, \\\n",
    "            'Please enter a shape with 3 or more edges.'\n",
    "        self._edges = n_edges\n",
    "        self._shape = self.determine_shape()\n",
    "\n",
    "    def determine_shape(self):\n",
    "        \"\"\"\n",
    "        Determines the shape of the Polygon.\n",
    "        \n",
    "        :return: _shape: Str, the name of the generic-type of polygon. \n",
    "        \"\"\"\n",
    "        if self._edges <= 2:\n",
    "            _shape = None  # At least 3 edges are needed for a sensible shape. \n",
    "        elif self._edges == 3:\n",
    "            _shape = \"Triangle\"\n",
    "        elif self._edges == 4:\n",
    "            _shape = \"Quadrilateral\"\n",
    "        elif self._edges == 5:\n",
    "            _shape = \"Pentagon\"\n",
    "        elif self._edges >= 6:\n",
    "            _shape = \"Polygon\"\n",
    "        return _shape"
   ]
  },
  {
   "cell_type": "markdown",
   "metadata": {},
   "source": [
    ">***Assertions***  \n",
    "***\n",
    ">It is very important to notice that as I am building these objects I am writing the assertions in. This highlights the importance of always thinking about how your code could go wrong and trying to safeguard yourself (and future users) against making mistakes. This idea of immediately writing code to check if your code could go wrong will naturally lead to the concept of ***test driven development***. This is how a lot of commercial software and products are produced, and it is an invaluable skill to have and an important habit to develop. However, demonstrating how to write tests may prove beyond the scope of this course.\n",
    "\n",
    ">For much of the code that follows I will continue to include assertions. While this may make the class a bit more cluttered, I beleive the benefits outway the drawbacks. It is highly important to highlight the practice of trying to identify ways your code can go wrong as you write it. "
   ]
  },
  {
   "cell_type": "markdown",
   "metadata": {},
   "source": [
    "We now have a method which determines what the shape of the object is. However, if we wanted to query this, we could write `p._shape`. However, this is not great practice, and it is better to introduce specalised *getter* and *setter* functions, to query and change class variables. We will see why this is advisable later in this example. "
   ]
  },
  {
   "cell_type": "code",
   "execution_count": 3,
   "metadata": {},
   "outputs": [],
   "source": [
    "class Polygon(object):\n",
    "    \"\"\"Polygons and other types of shapes.\"\"\"\n",
    "    _edges = None\n",
    "    _shape = None\n",
    "\n",
    "    def __init__(self, n_edges):\n",
    "        assert isinstance(n_edges, int), \\\n",
    "            'Please specify an integer number of edges.'\n",
    "        assert n_edges >= 3, \\\n",
    "            'Please enter a shape with 3 or more edges.'\n",
    "        self._edges = n_edges\n",
    "        self._shape = self.determine_shape()\n",
    "\n",
    "    def __str__(self):\n",
    "        return \"A {} object with {} edges.\".format(self._shape, self._edges)\n",
    "\n",
    "\n",
    "    def determine_shape(self):\n",
    "        \"\"\"\n",
    "        Determines the shape of the Polygon.\n",
    "        \n",
    "        Output:\n",
    "            \n",
    "            _shape: Str, the name of the generic-type of polygon. \n",
    "        \"\"\"\n",
    "        if self._edges <= 2:\n",
    "            _shape = None  # At least 3 edges are needed for a sensible shape. \n",
    "        elif self._edges == 3:\n",
    "            _shape = \"Triangle\"\n",
    "        elif self._edges == 4:\n",
    "            _shape = \"Quadrilateral\"\n",
    "        elif self._edges == 5:\n",
    "            _shape = \"Pentagon\"\n",
    "        elif self._edges >= 6:\n",
    "            _shape = \"Polygon\"\n",
    "        return _shape\n",
    "\n",
    "    def _reset_shape(self):\n",
    "        \"\"\"Re-determines the type of shape.\"\"\"\n",
    "        self._shape = self.determine_shape()\n",
    "        return self\n",
    "\n",
    "    def set_edges(self, n_edges):\n",
    "        self._edges = n_edges\n",
    "        self._reset_shape()\n",
    "        return self\n",
    "\n",
    "    def get_edges(self):\n",
    "        return self._edges"
   ]
  },
  {
   "cell_type": "markdown",
   "metadata": {},
   "source": [
    "We now have methods for setting and querying the number of edges that our polygon has. \n",
    "\n",
    "In the above we can see that when we set the number of edges, this is a two step process, as we need to change the value of `self._edges`, and then determine the name of the new shape. If we bundle this into a neat function call this provides a convenient interface for the user, who we can't expect to remember to reset the name of the object correctly."
   ]
  },
  {
   "cell_type": "markdown",
   "metadata": {},
   "source": [
    "### Class inheritance\n",
    "\n",
    "Having made the *base class* `Polygon` we would like to create a *sub-class* of Rectangles. For this we will require that these have a length, width, and aspect ratio. We would like to be able to set, query, and change these with an easy interface. We also want to ensure that these changes can be done correctly in a single step. If we require multiple steps to change the lengths and then have to seperately update the aspect ratio, then users will forget to do this, and **the code will be extremely error prone**. Hence we would like the new Rectangle class to look something like the following:\n",
    "\n",
    "```\n",
    "class Rectangle(Polygon):\n",
    "\n",
    "    _length, _width, _aspect_ratio = ...\n",
    "\n",
    "    def __init__(self, ...):\n",
    "        ...\n",
    "\n",
    "    def set_aspect_ratio(self,\n",
    "        ...\n",
    "\n",
    "    def get_aspect_ratio(self):\n",
    "        ...\n",
    "\n",
    "    def set_size(self, ...):\n",
    "        ...\n",
    "\n",
    "    def get_size(self):\n",
    "        ...\n",
    "\n",
    "    def get_length(self):\n",
    "        ...\n",
    "\n",
    "    def get_width(self):\n",
    "        ...\n",
    "\n",
    "    def is_square(self):\n",
    "        ...\n",
    "```\n",
    "\n",
    "Below is one such implementation of a `Rectangle` class. We will inspect and break down each of its member functions one-by-one afterwards. "
   ]
  },
  {
   "cell_type": "code",
   "execution_count": 5,
   "metadata": {
    "collapsed": false
   },
   "outputs": [],
   "source": [
    "import numpy as np\n",
    "\n",
    "\n",
    "class Rectangle(Polygon):\n",
    "    \"\"\"Rectangles and other quadrilaterals.\"\"\"\n",
    "    _length = None\n",
    "    _width = None\n",
    "    _aspect_ratio = None\n",
    "\n",
    "    def __init__(self, polygon=None):\n",
    "        if polygon is not None:\n",
    "            assert polygon.get_edges() == 4, \\\n",
    "                'Rectangles can only be formed by polygons with 4 edges.'\n",
    "        super(Rectangle, self).__init__(n_edges=4)\n",
    "        self._shape = \"Rectangle\"\n",
    "\n",
    "    def set_aspect_ratio(self,\n",
    "                         aspect_ratio,\n",
    "                         modify='length'):\n",
    "        \"\"\"\n",
    "        Set the aspect ratio of the quadrilateral. \n",
    "        \n",
    "        :param aspect_ratio: Float, length / width. (None un-sets the aspect ratio).\n",
    "        :param modify: String, \"length\" or \"width\", which will be modified.   \n",
    "        :return: self.\n",
    "        \"\"\"\n",
    "        if aspect_ratio is None:\n",
    "            self._aspect_ratio = None\n",
    "            return self\n",
    "\n",
    "        assert isinstance(aspect_ratio, (float, int)), \\\n",
    "            \"Please specify a numeric value for the aspect ratio.\"\n",
    "        assert aspect_ratio != 0, \\\n",
    "            \"Please enter a non-zero aspect ratio.\"\n",
    "        assert aspect_ratio > 0 and np.isfinite(aspect_ratio), \\\n",
    "            \"Please enter a strictly positive and finite aspect ratio.\"\n",
    "        assert modify == \"width\" or modify == \"length\", \\\n",
    "            'Please specify either \"length\" or \"width\" to be modified.'\n",
    "\n",
    "        self._aspect_ratio = aspect_ratio\n",
    "\n",
    "        if self._width is None and self._length is None:\n",
    "            pass\n",
    "        elif modify == \"length\" and self._width is not None:\n",
    "            self._length = 1.0 * aspect_ratio * self._width\n",
    "        elif modify == \"width\" and self._length is not None:\n",
    "            self._width = 1.0 * self._length / aspect_ratio\n",
    "\n",
    "    def set_size(self, length=None, width=None, aspect_ratio=None):\n",
    "        \"\"\"Sets the size of the shape.\"\"\"\n",
    "        if isinstance(length, (float, int)) and \\\n",
    "                isinstance(width, (float, int)) and \\\n",
    "                isinstance(aspect_ratio, (float, int)):\n",
    "            assert np.fabs(1.0 * length * width * aspect_ratio) > 0, \\\n",
    "                \"Ensure all values are strictly positive.\"\n",
    "            assert (1.0 * length / width - aspect_ratio) < 1e-12, \\\n",
    "                \"The specified length, width, and aspect ratio are inconsistent. \" \\\n",
    "                \"Ensure length / width matches the specified aspect_ratio \" \\\n",
    "                \"(to within 1e-12).\"\n",
    "\n",
    "        if all(v is None for v in (length, width, aspect_ratio)):\n",
    "            return self\n",
    "\n",
    "        if length is not None:\n",
    "            self._length = length\n",
    "        if width is not None:\n",
    "            self._width = width\n",
    "\n",
    "        if length is not None and width is not None:\n",
    "            self._aspect_ratio = 1.0 * self._length / self._width\n",
    "        elif length is not None and self._aspect_ratio is not None:\n",
    "            self._width = 1.0 * self._length / self._aspect_ratio\n",
    "        elif width is not None and self._aspect_ratio is not None:\n",
    "            self._length = 1.0 * self._aspect_ratio * self._width\n",
    "        elif all(v is not None for v in (length, width, aspect_ratio)):\n",
    "            # We permit this in case we want custom data types:\n",
    "            # e.g. an integer aspect ratio with floating lengths and widths\n",
    "            self._width = width\n",
    "            self._length = length\n",
    "            self._aspect_ratio = aspect_ratio\n",
    "\n",
    "    def get_aspect_ratio(self):\n",
    "        return self._aspect_ratio\n",
    "    \n",
    "    def get_size(self):\n",
    "        return {\"length\": self._length, \"width\": self._width}\n",
    "\n",
    "    def get_length(self):\n",
    "        return self._length\n",
    "\n",
    "    def get_width(self):\n",
    "        return self._width\n",
    "\n",
    "    def is_square(self):\n",
    "        return True if self._aspect_ratio == 1 else False"
   ]
  },
  {
   "cell_type": "markdown",
   "metadata": {},
   "source": [
    "We can begin by inspecting the simpler member functions, which are most of the `get` and `set` methods:"
   ]
  },
  {
   "cell_type": "code",
   "execution_count": null,
   "metadata": {},
   "outputs": [],
   "source": [
    "def get_aspect_ratio(self):\n",
    "    return self._aspect_ratio\n",
    "\n",
    "\n",
    "def get_size(self):\n",
    "    return {\"length\": self._length, \"width\": self._width}\n",
    "\n",
    "\n",
    "def get_length(self):\n",
    "    return self._length\n",
    "\n",
    "\n",
    "def get_width(self):\n",
    "    return self._width\n",
    "\n",
    "\n",
    "def is_square(self):\n",
    "    return True if self._aspect_ratio == 1 else False"
   ]
  },
  {
   "cell_type": "markdown",
   "metadata": {},
   "source": [
    "With the above `get` and `set` methods we have ommitted any docstrings. These methods are all so short and simple that they arguably don't warrant docstrings. However, we can see that for the more complicated member functions I have included these."
   ]
  },
  {
   "cell_type": "markdown",
   "metadata": {},
   "source": [
    "In the rectangle I have three moderately complicated member functions. I have:\n",
    "\n",
    " * **`__init__`** - This creates an instance of a rectangle. I will make this so I can create a `Rectangle` instance from a `Polygon` instance. \n",
    " * **`set_size`** - This will enable me to both set ***and change*** the size of the rectangle. This will require at least a length or a width to be specified by the user, and possibly also an aspect ratio. If only a single length or a width is specified but also an aspect ratio, then the unspecified value will be infered.\n",
    " * **`set_aspect_ratio`** -  This will allow the aspect ratio of the rectangle to be set ***or changed***. We will allow for the rectangle to adjust to the required aspect ratio by either shrinking or enlarging in an appropriate direction, which can be specified by the user. "
   ]
  },
  {
   "cell_type": "code",
   "execution_count": null,
   "metadata": {},
   "outputs": [],
   "source": [
    "def set_aspect_ratio(self,\n",
    "                     aspect_ratio,\n",
    "                     modify='length'):\n",
    "    \"\"\"\n",
    "    Set the aspect ratio of the quadrilateral. \n",
    "    \n",
    "    :param aspect_ratio: Float, length / width. (None un-sets the aspect ratio).\n",
    "    :param modify: String, \"length\" or \"width\", which will be modified.   \n",
    "    :return: self.\n",
    "    \"\"\"\n",
    "    if aspect_ratio is None:\n",
    "        self._aspect_ratio = None\n",
    "        return self\n",
    "\n",
    "    # Some sensible assertions. \n",
    "    assert isinstance(aspect_ratio, (float, int)), \\\n",
    "        \"Please specify a numeric value for the aspect ratio.\"\n",
    "    assert aspect_ratio != 0, \\\n",
    "        \"Please enter a non-zero aspect ratio.\"\n",
    "    assert aspect_ratio > 0 and np.isfinite(aspect_ratio), \\\n",
    "        \"Please enter a strictly positive and finite aspect ratio.\"\n",
    "    assert modify == \"width\" or modify == \"length\", \\\n",
    "        'Please specify either \"length\" or \"width\" to be modified.'\n",
    "\n",
    "    self._aspect_ratio = aspect_ratio\n",
    "\n",
    "    if self._width is None and self._length is None:\n",
    "        pass\n",
    "    elif modify == \"length\" and self._width is not None:\n",
    "        self._length = 1.0 * aspect_ratio * self._width\n",
    "    elif modify == \"width\" and self._length is not None:\n",
    "        self._width = 1.0 * self._length / aspect_ratio"
   ]
  },
  {
   "cell_type": "code",
   "execution_count": null,
   "metadata": {},
   "outputs": [],
   "source": [
    "def set_size(self, length=None, width=None, aspect_ratio=None):\n",
    "    \"\"\"Sets the size of the shape.\"\"\"\n",
    "    if isinstance(length, (float, int)) and \\\n",
    "            isinstance(width, (float, int)) and \\\n",
    "            isinstance(aspect_ratio, (float, int)):\n",
    "        assert np.fabs(1.0 * length * width * aspect_ratio) > 0, \\\n",
    "            \"Ensure all values are non-zero.\"\n",
    "        assert np.fabs(1.0 * length / width - aspect_ratio) < 1e-12, \\\n",
    "            \"The specified length, width, and aspect ratio are inconsistent. \" \\\n",
    "            \"Ensure length / width matches the specified aspect_ratio \" \\\n",
    "            \"(to within 1e-12).\"\n",
    "\n",
    "    # The default values do nothing. \n",
    "    if all(v is None for v in (length, width, aspect_ratio)):\n",
    "        return self\n",
    "\n",
    "    # We change the length or width if requested to do so. \n",
    "    if length is not None:\n",
    "        self._length = length\n",
    "    if width is not None:\n",
    "        self._width = width\n",
    "\n",
    "    # We update either the aspect ratio, length, or width as required.  \n",
    "    if length is not None and width is not None:\n",
    "        self._aspect_ratio = 1.0 * self._length / self._width\n",
    "    elif length is not None and self._aspect_ratio is not None:\n",
    "        self._width = 1.0 * self._length / self._aspect_ratio\n",
    "    elif width is not None and self._aspect_ratio is not None:\n",
    "        self._length = 1.0 * self._aspect_ratio * self._width\n",
    "    elif all(v is not None for v in (length, width, aspect_ratio)):\n",
    "        # We permit this in case we want custom data types:\n",
    "        # e.g. an integer aspect ratio with floating lengths and widths:\n",
    "        #\n",
    "        # e.g.     length = 1.0, width = 1.0, aspect_ratio = 1\n",
    "        self._width = width\n",
    "        self._length = length\n",
    "        self._aspect_ratio = aspect_ratio"
   ]
  },
  {
   "cell_type": "markdown",
   "metadata": {},
   "source": [
    "The above two member functions, while a little involved, require nothing more than a bit of logical control flow (e.g., `if` and `else`). The initaliser though does introduce a new concept of class inheritance and the super-class. "
   ]
  },
  {
   "cell_type": "markdown",
   "metadata": {},
   "source": [
    "### The super-class\n",
    "\n",
    "The initialiser for the super-class has a little bit of bulk to enable a `Rectangle` to be built out of a `Polygon`, but is we strip this away we can boil down the initialiser to the following:"
   ]
  },
  {
   "cell_type": "markdown",
   "metadata": {},
   "source": [
    "We can see that this introduces the `super` method, which is an in-built python function. How this works is quite complicated, but it suffices to say that this will look for the function `super(SearchClass, self).member_function_to_search_for()` recursively in the `SearchClass` and parent classes until it finds an implementation. If the `type` of `self` matches the `SearchClass` then it will look in its parent classes, avoiding an infinite search recursion (we will give an example of this type of bug later).\n",
    "\n",
    "Having seen the `super` method in action, it is easy enough to see how we might then construct a `Square` class. "
   ]
  },
  {
   "cell_type": "markdown",
   "metadata": {},
   "source": [
    "We can see that this introduces the `super` method, which is an in-built python function. How this works is quite complicated, but it suffices to say that this will look for the function `super(SearchClass, self).member_function_to_search_for()` recursively in the `SearchClass` and parent classes until it finds an implementation. If the `type` of `self` matches the `SearchClass` then it will look in its parent classes, avoiding an infinite search recursion (we will give an example of this type of bug later).\n",
    "\n",
    "Having seen the `super` method in action, it is easy enough to see how we might then construct a `Square` class. "
   ]
  },
  {
   "cell_type": "code",
   "execution_count": 6,
   "metadata": {},
   "outputs": [],
   "source": [
    "class Square(Rectangle):\n",
    "    def __init__(self, rectangle=None):\n",
    "        super(Square, self).__init__()\n",
    "        self.set_aspect_ratio(1.0)\n",
    "        self._shape = \"Square\"\n",
    "        if isinstance(rectangle, Rectangle):\n",
    "            assert rectangle.is_square(), \\\n",
    "                \"The rectangle is not a square shape.\"\n",
    "            self._length = rectangle.get_length()\n",
    "            self._width = self._length\n",
    "\n",
    "    def set_size(self, length):\n",
    "        super(Square, self).set_size(length=length, width=length, aspect_ratio=self.get_aspect_ratio())\n",
    "\n",
    "    def is_square(self):\n",
    "        return True"
   ]
  },
  {
   "cell_type": "markdown",
   "metadata": {},
   "source": [
    "After all this hard work defining the classes and worrying about the interface and inheritance, we can see the benefit of doing so by using the classes we have defined. \n",
    "\n",
    "We can first begin by showing what we can do with general polygons using the `Polygon` object we created:"
   ]
  },
  {
   "cell_type": "code",
   "execution_count": 7,
   "metadata": {},
   "outputs": [
    {
     "name": "stdout",
     "output_type": "stream",
     "text": [
      "A Triangle object with 3 edges.\nA Quadrilateral object with 4 edges.\nA Polygon object with 500 edges.\nA Polygon object with 50 edges.\n"
     ]
    }
   ],
   "source": [
    "p3 = Polygon(3)\n",
    "p4 = Polygon(4)\n",
    "p500 = Polygon(500)\n",
    "\n",
    "print p3\n",
    "print p4\n",
    "print p500\n",
    "\n",
    "# We change change an object inplace. \n",
    "p500.set_edges(50)\n",
    "\n",
    "print p500"
   ]
  },
  {
   "cell_type": "markdown",
   "metadata": {},
   "source": [
    "We can construct rectangle objects using the default constructor or from a `Polygon` instance. \n",
    "\n",
    ">Notice that we break our code if we try to build a polygon with 2 edges or a rectangle from a Polygon which isn't a quadrilateral. "
   ]
  },
  {
   "cell_type": "code",
   "execution_count": 10,
   "metadata": {},
   "outputs": [
    {
     "name": "stdout",
     "output_type": "stream",
     "text": [
      "A Rectangle object with 4 edges.\n"
     ]
    }
   ],
   "source": [
    "r = Rectangle()\n",
    "r4 = Rectangle(p4)\n",
    "print r4\n",
    "\n",
    "try:\n",
    "    p2 = Polygon(2)\n",
    "    r3 = Rectangle(Polygon(3))\n",
    "except Exception:\n",
    "    pass"
   ]
  },
  {
   "cell_type": "markdown",
   "metadata": {},
   "source": [
    "We can now change and manipulate the lengths, widths, and aspect ratios of our rectangles. "
   ]
  },
  {
   "cell_type": "code",
   "execution_count": 13,
   "metadata": {},
   "outputs": [
    {
     "name": "stdout",
     "output_type": "stream",
     "text": [
      "{'width': 4.3, 'length': 8.6}\n"
     ]
    }
   ],
   "source": [
    "r4.set_aspect_ratio(2.0)\n",
    "print r4.get_size()"
   ]
  },
  {
   "cell_type": "code",
   "execution_count": 14,
   "metadata": {},
   "outputs": [
    {
     "name": "stdout",
     "output_type": "stream",
     "text": [
      "{'width': 1.0, 'length': 2.0}\n"
     ]
    }
   ],
   "source": [
    "r4.set_size(length=2.0)\n",
    "print r4.get_size()"
   ]
  },
  {
   "cell_type": "code",
   "execution_count": 15,
   "metadata": {},
   "outputs": [
    {
     "name": "stdout",
     "output_type": "stream",
     "text": [
      "{'width': 3.0, 'length': 6.0}\n"
     ]
    }
   ],
   "source": [
    "r4.set_size(width=3.0)\n",
    "print r4.get_size()"
   ]
  },
  {
   "cell_type": "code",
   "execution_count": 16,
   "metadata": {},
   "outputs": [
    {
     "name": "stdout",
     "output_type": "stream",
     "text": [
      "{'width': 4.6, 'length': 2.3}\n0.5\n"
     ]
    }
   ],
   "source": [
    "r4.set_size(2.3, 4.6)\n",
    "print r4.get_size()\n",
    "print r4.get_aspect_ratio()"
   ]
  },
  {
   "cell_type": "code",
   "execution_count": 17,
   "metadata": {},
   "outputs": [
    {
     "name": "stdout",
     "output_type": "stream",
     "text": [
      "False\n"
     ]
    }
   ],
   "source": [
    "r4.set_aspect_ratio(5.0)\n",
    "print r4.is_square()"
   ]
  },
  {
   "cell_type": "code",
   "execution_count": 18,
   "metadata": {},
   "outputs": [
    {
     "name": "stdout",
     "output_type": "stream",
     "text": [
      "{'width': 4.6, 'length': 4.6}\nTrue\n"
     ]
    }
   ],
   "source": [
    "r4.set_aspect_ratio(1.0)\n",
    "print r4.get_size()\n",
    "print r4.is_square()"
   ]
  },
  {
   "cell_type": "markdown",
   "metadata": {},
   "source": [
    "We can also now convert our rectangles into our more specific `Square` object which we defined earlier. "
   ]
  },
  {
   "cell_type": "code",
   "execution_count": 19,
   "metadata": {},
   "outputs": [
    {
     "name": "stdout",
     "output_type": "stream",
     "text": [
      "True\nA Square object with 4 edges.\n{'width': 4.6, 'length': 4.6}\n"
     ]
    }
   ],
   "source": [
    "s = Square()\n",
    "s4 = Square(r4)\n",
    "print s4.is_square()\n",
    "print s4\n",
    "print s4.get_size()"
   ]
  },
  {
   "cell_type": "markdown",
   "metadata": {},
   "source": [
    "### Infinite recursion\n",
    "\n",
    "While the `super` method is very useful for abstracting away the class structure, it is not perfect. If we would like to use the `super` method is would be convenient sometimes to avoid having to re-write the class name and have this abstracted away:\n",
    "\n",
    "```python2\n",
    "\n",
    "class ParentClass():\n",
    "\tdef __init__(self, x): \n",
    "\t\t# Do something with x\n",
    "\n",
    "class ChildClass(ParentClass):\n",
    "\tdef __init__(self, x):\n",
    "\t\tsuper(ChildClass, self).__init__(x)\n",
    "\t\t# ChildClass is not abstracted away.\n",
    "```\n",
    "\n",
    "\n",
    ">Python 3 has an arguably better syntax which can circumvent this issues: `super().__init__(x)`.\n",
    "\n",
    "\n",
    "One danger to avoid with the `super` method is infinite recursion loops. The following demonstrates this:\n"
   ]
  },
  {
   "cell_type": "code",
   "execution_count": null,
   "metadata": {},
   "outputs": [],
   "source": [
    "class Polygon_BAD(object):\n",
    "    def __init__(self):\n",
    "        pass\n",
    "\n",
    "\n",
    "class Rectangle_BAD(Polygon_BAD):\n",
    "    def __init__(self):\n",
    "        super(self.__class__, self).__init__()\n",
    "\n",
    "\n",
    "class Square_BAD(Rectangle_BAD):\n",
    "    pass"
   ]
  },
  {
   "cell_type": "markdown",
   "metadata": {},
   "source": [
    "In the above example, if we were to try to create an instance of `Square` using e.g. `my_square = Square_BAD()`, then Python would call the default constructor for `Rectangle_BAD`. This would mean that `Square_BAD` would invoke `super(self.__class__, self).__init__()`. Remembering that `self` is an instance of `Square_BAD` (not `Rectangle_BAD`), this would mean that Python will be invoking the superclass of `my_square`, which is `Rectangle_BAD`. Hence the constructor would invoke the same function again with the same class object, producing an infinite loop of function calls. "
   ]
  }
 ],
 "metadata": {
  "kernelspec": {
   "display_name": "Python 2",
   "language": "python",
   "name": "python2"
  },
  "language_info": {
   "codemirror_mode": {
    "name": "ipython",
    "version": 2.0
   },
   "file_extension": ".py",
   "mimetype": "text/x-python",
   "name": "python",
   "nbconvert_exporter": "python",
   "pygments_lexer": "ipython2",
   "version": "2.7.6"
  }
 },
 "nbformat": 4,
 "nbformat_minor": 0
}