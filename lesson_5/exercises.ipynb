{
 "cells": [
  {
   "cell_type": "markdown",
   "metadata": {
    "collapsed": true
   },
   "source": [
    "# Introduction to coding \n",
    "\n",
    "### Author\n",
    "\n",
    "[Oliver Sheridan-Methven](mailto:oliver.sheridan-methven@maths.ox.ac.uk).\n",
    "\n",
    "#### Date\n",
    "\n",
    "September 2017.\n",
    "\n",
    "## Lesson 5\n",
    "\n",
    "Classes"
   ]
  },
  {
   "cell_type": "markdown",
   "metadata": {},
   "source": [
    "## Exercises\n",
    "\n",
    "### People and family trees.\n",
    "\n",
    " * Write a class which represents a person. This class should be able to store their name, date of birth, address, and other items of personal information. \n",
    " * Add the following features to your class:\n",
    "\t- Compute the age of the person given only their date of birth. \n",
    " \t- Add a field storing the person's parents. \n",
    "\t- Add a field storing the person's children. \n",
    " * Modify your class to incorporate a family tree. Consider implementing the following features:\n",
    " \t- Querying if two people are:\n",
    "\t\t+ Siblings.\n",
    "\t\t+ Married.\n",
    "\t\t+ Related.\n",
    "\t- Adding a person into the family tree (e.g. marriage, birth, adopted). \n",
    "\t- Removing someone from the family tree (e.g. death, divorce).\n",
    "\t- Determining the depth of the family tree. \n",
    "\n",
    "### Tic-Tac-Toe.\n",
    "\n",
    "We can construct the game Tic-Tac-Toe as a class object.\n",
    "\n",
    " * Write a game class. This should have the game name, the maximum number of players, etc.\n",
    " * Add player classes (and possibly a bot class).\n",
    " * Add methods to the game class which starts a match (possibly a new game instance?).\n",
    " \t- Overload the addition operator between games and players to enable players to join the game. \n",
    " * Write a match method which prints the current state of the game. \n",
    " * Add a turn method which will take the input (either from a person or a bot) and will update the match. This will need to check if the move is valid, and also whether this wins/loses the game?\n",
    "\t- If you wanted to enable an \"undo move\" feature, consider what you would need to change in the code. "
   ]
  }
 ],
 "metadata": {
  "kernelspec": {
   "display_name": "Python 2",
   "language": "python",
   "name": "python2"
  },
  "language_info": {
   "codemirror_mode": {
    "name": "ipython",
    "version": 2.0
   },
   "file_extension": ".py",
   "mimetype": "text/x-python",
   "name": "python",
   "nbconvert_exporter": "python",
   "pygments_lexer": "ipython2",
   "version": "2.7.6"
  }
 },
 "nbformat": 4,
 "nbformat_minor": 0
}