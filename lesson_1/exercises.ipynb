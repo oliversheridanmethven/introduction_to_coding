{
 "cells": [
  {
   "cell_type": "markdown",
   "metadata": {
    "collapsed": true
   },
   "source": [
    "# Oxford international college\n",
    "\n",
    "## An introduction to coding\n",
    "\n",
    "### Lesson 1 - Exercises\n",
    "\n",
    "#### Author\n",
    "\n",
    "Oliver Sheridan-Methven\n",
    "\n",
    "##### Date\n",
    "\n",
    "September 2017.\n",
    "    \n",
    "#### Description:\n",
    "\n",
    "First steps in programming, and saying \"Hello world\"."
   ]
  },
  {
   "cell_type": "markdown",
   "metadata": {},
   "source": [
    "## Exercises\n",
    "\n",
    "The exercises for this first class are very simple. The first task is to go run a simple \"hello world\" program in Python. Once you have managed this, we will see how to do this in several other langauges. \n",
    "\n",
    " * Print \"Hello world\" in Python. \n",
    " * Run the `whats_your_name.py` file to print your name out to the console. \n",
    " * See how some other languages print out hello world:\n",
    "\t- C, `hello_world_c.c`.\n",
    "> This can be compiled and run with `gcc hello_world_c.c -o hello_world_c` and `./hello_world_c` repectively.\n",
    "\t- C++, `hello_world_c.cpp`.\n",
    "> This can be compiled and run with `g++ hello_world_cpp.cpp -o hello_world_cpp` and `./hello_world_cpp` repectively.\n",
    "\t- Javascript, `hello_world_js.js`.\n",
    "> In the console enter `node hello_world_js.js`, (alternatives such as `rhino` use a print statement, although this is less common for Javascript).\n",
    "\t- HTML, `hello_world_html.html`.\n",
    "> On most operating systems you can likely right click this file and select \"open with\", and then select your favourite browser (e.g. Chrome, Chromium, Firefox, Safari, Opera, Internet Explorer, etc.). Alternatively just type into the terminal `open ./hello_world_html.html` which is usually inteleigent enough to open the file with a browser. "
   ]
  }
 ],
 "metadata": {
  "kernelspec": {
   "display_name": "Python 2",
   "language": "python",
   "name": "python2"
  },
  "language_info": {
   "codemirror_mode": {
    "name": "ipython",
    "version": 2
   },
   "file_extension": ".py",
   "mimetype": "text/x-python",
   "name": "python",
   "nbconvert_exporter": "python",
   "pygments_lexer": "ipython2",
   "version": "2.7.6"
  }
 },
 "nbformat": 4,
 "nbformat_minor": 0
}
