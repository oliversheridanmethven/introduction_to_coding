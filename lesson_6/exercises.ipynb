{
 "cells": [
  {
   "cell_type": "markdown",
   "metadata": {
    "collapsed": true
   },
   "source": [
    "# Introduction to coding \n",
    "\n",
    "### Author\n",
    "\n",
    "[Oliver Sheridan-Methven](mailto:oliver.sheridan-methven@maths.ox.ac.uk).\n",
    "\n",
    "#### Date\n",
    "\n",
    "September 2017.\n",
    "\n",
    "## Lesson 6\n",
    "\n",
    "Operator overloading"
   ]
  },
  {
   "cell_type": "markdown",
   "metadata": {},
   "source": [
    "## Exercises\n",
    "\n",
    "### Complex numbers\n",
    "\n",
    "Implement methods in `ComplexNumber` (from the lesson) which express the number in polar form.\n",
    "\n",
    "Implement a new class called `ComplexPolar` which does everything `ComplexNumbers` does, but only ever using the polar representation.\n",
    "\n",
    ">If you are feeling very [lazy/clever] then you might consider making one class inherit from the other.\n",
    "***\n",
    "><sub>It would be nice to have each class able to be constructed from the other, but if using the `super` method\n",
    "then be careful that you don't get caught in an infinite recursion loop!</sub>\n",
    "\n",
    "What advantages are there to having a polar representation?\n",
    "\n",
    "In either class (or both), implement the following operators (where applicable):\n",
    "```\n",
    "%\t<\t>\t<=\t>=\t//\t**\t==\t*=\t/=\t+=\t-=\n",
    "```\n",
    "\n",
    "The following operators can also be overloaded:\n",
    "```\n",
    "[index]\t\tin\t\tlen\t\tstr\n",
    "```\n",
    "\n",
    "### Polynomial functions\n",
    "\n",
    "Write a class 'PolynomialFunction` which stores a polynomial function. Examples of such polynomials might include:\n",
    " * f(x) = 1\n",
    " * f(x) = 2x + 3\n",
    " * f(x) = 5x^3^ + 4\n",
    " * f(x) = 3 - 2x + 5x^2^ - x^3^/12 + ... + x^12^\n",
    "\n",
    "Your class should have the following methods:\n",
    " * An initaliser, capable of creating a polynomial from another pre-existing instance. \n",
    " * A *getter* method which returns the order of the polynomial (the highest power of x). \n",
    " * A *setter* method, where you specify the coefficents of the powers of x which are non-zero. \n",
    "\t- Ensure that if you enter a coefficient of zero then this does nothing.\n",
    " * A `__repr__` or `__str__` method so there is a user-friendly set of information when the object is printed. \n",
    " * Most importantly, implement the call operator `__call__` so you can use this to evalute the polynomial with both:\n",
    "\t- A single floating point input value. \n",
    "\t- A list of arguments.\n",
    "\t- A `numpy.array`.\n",
    "\n",
    "The above class with the minimal functionality listed above should not be that much to code up. We will now overload some functionality. \n",
    "\n",
    "Overload the following functionality:\n",
    " * Addition and subtraction of polynomials with:\n",
    "\t- Floats. \n",
    "\t- Other polynomials. \n",
    " * Multiplication of a polynomial with:\n",
    "\t- Floats.\n",
    "\t- Other polynomials.\n",
    "\n",
    "For more advanced functionality, consider how you might implement:\n",
    " * Operations involving complex numbers.\n",
    " * Division of one polynomial with another. \n",
    "\n",
    "\n",
    ">The above set of functionality is known as symbolic computation, and such features are available in [`sympy`](http://www.sympy.org/)."
   ]
  },
  {
   "cell_type": "code",
   "execution_count": null,
   "metadata": {
    "collapsed": true
   },
   "outputs": [],
   "source": []
  }
 ],
 "metadata": {
  "kernelspec": {
   "display_name": "Python 2",
   "language": "python",
   "name": "python2"
  },
  "language_info": {
   "codemirror_mode": {
    "name": "ipython",
    "version": 2
   },
   "file_extension": ".py",
   "mimetype": "text/x-python",
   "name": "python",
   "nbconvert_exporter": "python",
   "pygments_lexer": "ipython2",
   "version": "2.7.13"
  }
 },
 "nbformat": 4,
 "nbformat_minor": 1
}
