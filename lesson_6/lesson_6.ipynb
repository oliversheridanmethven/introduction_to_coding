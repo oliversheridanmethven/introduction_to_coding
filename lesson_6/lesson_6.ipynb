{
 "cells": [
  {
   "cell_type": "markdown",
   "metadata": {
    "collapsed": true
   },
   "source": [
    "# Oxford international college\n",
    "\n",
    "## Introduction to coding \n",
    "\n",
    "### Author\n",
    "\n",
    "[Oliver Sheridan-Methven](mailto:oliver.sheridan-methven@maths.ox.ac.uk).\n",
    "\n",
    "#### Date\n",
    "\n",
    "December 2017.\n",
    "\n",
    "## Lesson 6\n",
    "\n",
    "### Description\n",
    "\n",
    "In this lesson we will introduce operator overloading.\n"
   ]
  },
  {
   "cell_type": "markdown",
   "metadata": {},
   "source": [
    "##Operator overloading\n",
    "\n",
    "One of the best features of object-oriented programming (OOP) is operator overloading. In this lesson we will build a simple example of our own `ComplexNumber` class. We will showcase operator overloading with such a class. \n",
    "\n",
    "To begin we implement a class to hold a complex number.\n",
    "\n",
    ">Python can already handle numbers by writing expressions such as `1 + 2j`, but it is interesting to see what is involved in doing so. "
   ]
  },
  {
   "cell_type": "code",
   "execution_count": 94,
   "metadata": {},
   "outputs": [],
   "source": [
    "import numpy as np\n",
    "\n",
    "\n",
    "class ComplexNumber(object):\n",
    "    \"\"\"Holds complex numbers in the real and imaginary form z = x + i * y.\"\"\"\n",
    "    _x = None  # The real part. \n",
    "    _y = None  # The complex part. \n",
    "    _type = None  # Real, imaginary, or complex.\n",
    "    __class__ = \"ComplexNumber\"\n",
    "\n",
    "    def __init__(self, x=None, y=None):\n",
    "        self._x = x if isinstance(x, (float, int)) else 0.0\n",
    "        self._y = y if isinstance(y, (float, int)) else 0.0\n",
    "        self._type = self.determine_type()\n",
    "\n",
    "    def determine_type(self):\n",
    "        \"\"\"Determines if the number is real, imaginary, or complex.\"\"\"\n",
    "        if self._x and self._y:\n",
    "            return \"complex\"\n",
    "        elif not self._y:\n",
    "            return \"real\"\n",
    "        elif not self._x and self._y:\n",
    "            return \"imaginary\"\n",
    "        elif self._x and self._y:  # i.e. zero.\n",
    "            return \"real\"\n",
    "\n",
    "    def __str__(self):\n",
    "        if self._type == \"real\":\n",
    "            return str(self._x)\n",
    "        elif self._type == \"imaginary\":\n",
    "            return \"{}i\".format(self._y)\n",
    "        elif self._type == \"complex\":\n",
    "            return \"{} {} {}i\".format(self._x, \"+\" if self._y > 0 else \"-\", np.fabs(self._y))\n",
    "\n",
    "    def complex_conjugate(self):\n",
    "        return ComplexNumber(self._x, -self._y if self._y is not None else self._y)\n",
    "    \n",
    "    def get_real(self):\n",
    "        return self._x\n",
    "\n",
    "    def get_imaginary(self):\n",
    "        return self._y\n",
    "    \n",
    "    def get_length(self):\n",
    "        return np.sqrt(self._x * self._x + self._y * self._y)"
   ]
  },
  {
   "cell_type": "markdown",
   "metadata": {},
   "source": [
    "We can now use this class to represent complex numbers and perform a few very basic operations. "
   ]
  },
  {
   "cell_type": "code",
   "execution_count": 157,
   "metadata": {},
   "outputs": [
    {
     "name": "stdout",
     "output_type": "stream",
     "text": [
      "The number 1.0 + 2.0i     \tis a complex number.\nThe number 1.0 - 2.0i     \tis a complex number.\nThe number 2.0            \tis a real number.\nThe number 2.0i           \tis a imaginary number.\nThe complex conjugate of 1.0 + 2.0i is 1.0 - 2.0i.\n"
     ]
    }
   ],
   "source": [
    "a = ComplexNumber(1.0, 2.0)\n",
    "b = ComplexNumber(1.0, -2.0)\n",
    "c = ComplexNumber(2.0)\n",
    "d = ComplexNumber(None, 2.0)\n",
    "\n",
    "for i in [a, b, c, d]:\n",
    "    print \"The number {:<15}\\tis a {} number.\".format(i, i.determine_type())\n",
    "\n",
    "print(\"The complex conjugate of \"\n",
    "      \"{} is {}.\".format(a, a.complex_conjugate()))"
   ]
  },
  {
   "cell_type": "markdown",
   "metadata": {},
   "source": [
    "Having seen that the class is storing the data correctly. We would like to be able to write code where we can write expressions such as  \n",
    "```\n",
    "c = a + b\n",
    "```  \n",
    "where `a` and `b` are instances of our `ComplexNumber` class. \n",
    "\n",
    "We do this by overwriting the `__add__` method."
   ]
  },
  {
   "cell_type": "code",
   "execution_count": 65,
   "metadata": {},
   "outputs": [],
   "source": [
    "def __add__(self, z):\n",
    "    \"\"\" Addition. \"\"\"\n",
    "    z = ComplexNumber(z)\n",
    "    x = self.get_real() + z.get_real()\n",
    "    y = self.get_imaginary() + z.get_imaginary()\n",
    "    return ComplexNumber(x, y)"
   ]
  },
  {
   "cell_type": "code",
   "execution_count": 66,
   "metadata": {},
   "outputs": [
    {
     "name": "stdout",
     "output_type": "stream",
     "text": [
      "3.0 + 2.0i\n"
     ]
    }
   ],
   "source": [
    "print a + 2.0"
   ]
  },
  {
   "cell_type": "markdown",
   "metadata": {},
   "source": [
    "### Reverse operations\n",
    "\n",
    "After we have implemented `__add__` we can now perform operations of the kind:\n",
    "```\n",
    "c = ComplexNumber(...)\n",
    "d = c + 1.0\n",
    "```\n",
    "where the line\n",
    "```\n",
    "d = c + 1.0\n",
    "````  \n",
    "is equivalent to  \n",
    "```\n",
    "d = c.__add__(1.0)\n",
    "```\n",
    "\n",
    "However, if we tried to write  \n",
    "```\n",
    "d = 1.0 + c\n",
    "```  \n",
    "then this will try to call  \n",
    "```\n",
    "d = 1.0.__add__(c)\n",
    "```\n",
    "\n",
    "  \n",
    "Unfortunately, the `__add__` method for floats doesn't know how to handle a `ComplexNumber` object. Rather than raising a `NotImplemented` error, Python is clever enough to quickly check if `ComplexNumber` knows how to handle this method, and queries the `__radd__` method, which stands for addition in reverse order (from right to left).\n",
    "\n",
    "Similar reverse operations should be implemented for subtraction, multiplication, and division. Notice that subtraction and division are not commutative operations. \n"
   ]
  },
  {
   "cell_type": "code",
   "execution_count": null,
   "metadata": {},
   "outputs": [],
   "source": [
    "def __radd__(self, z):\n",
    "        \"\"\" Addition. \"\"\"\n",
    "        return self.__add__(z)"
   ]
  },
  {
   "cell_type": "code",
   "execution_count": 68,
   "metadata": {},
   "outputs": [
    {
     "name": "stdout",
     "output_type": "stream",
     "text": [
      "3.0 + 2.0i\n"
     ]
    }
   ],
   "source": [
    "print 2.0 + a"
   ]
  },
  {
   "cell_type": "markdown",
   "metadata": {},
   "source": [
    ">While you may think it is obvious that all addition should be commutative, we have already encountered an example where this is not the case. Recall how we all strings:"
   ]
  },
  {
   "cell_type": "code",
   "execution_count": 64,
   "metadata": {},
   "outputs": [
    {
     "name": "stdout",
     "output_type": "stream",
     "text": [
      "Hello world\nWorld hello\n"
     ]
    }
   ],
   "source": [
    "print \"Hello \" + \"world\"\n",
    "print \"World \" + \"hello\""
   ]
  },
  {
   "cell_type": "markdown",
   "metadata": {},
   "source": [
    "So after having implemented addition, we implement a few other typical operations which we would like to use. A non exhaustive list of operations includes:\n",
    " * Negation.\n",
    " * Multiplication.\n",
    " * Division.\n",
    "\n",
    "The final `ComplexNumber` class with all this implemented is shown below:"
   ]
  },
  {
   "cell_type": "code",
   "execution_count": 162,
   "metadata": {},
   "outputs": [],
   "source": [
    "class ComplexNumber(object):\n",
    "    \"\"\"Holds complex numbers in the real and imaginary form z = x + i * y.\"\"\"\n",
    "    _x = None  # The real part. \n",
    "    _y = None  # The complex part. \n",
    "    _type = None  # Real, imaginary, or complex.\n",
    "    __name__ = \"ComplexNumber\"\n",
    "\n",
    "    def __init__(self, x=None, y=None):\n",
    "        if isinstance(x, ComplexNumber):\n",
    "            return self.__init__(x.get_real(), x.get_imaginary())\n",
    "        self._x = x if isinstance(x, (float, int)) else 0.0\n",
    "        self._y = y if isinstance(y, (float, int)) else 0.0\n",
    "        self._type = self.determine_type()\n",
    "\n",
    "    def determine_type(self):\n",
    "        \"\"\"Determines if the number is real, imaginary, or complex.\"\"\"\n",
    "        if self._x and self._y:\n",
    "            return \"complex\"\n",
    "        elif not self._y:\n",
    "            return \"real\"\n",
    "        elif not self._x and self._y:\n",
    "            return \"imaginary\"\n",
    "        elif self._x and self._y:  # i.e. zero.\n",
    "            return \"real\"\n",
    "\n",
    "    def __repr__(self):\n",
    "        if self._type == \"real\":\n",
    "            return str(self._x)\n",
    "        elif self._type == \"imaginary\":\n",
    "            return \"{}i\".format(self._y)\n",
    "        elif self._type == \"complex\":\n",
    "            return \"{} {} {}i\".format(self._x, \"+\" if self._y > 0 else \"-\", np.fabs(self._y))\n",
    "\n",
    "    def complex_conjugate(self):\n",
    "        return ComplexNumber(self._x, -self._y if self._y is not None else self._y)\n",
    "\n",
    "    def get_real(self):\n",
    "        return self._x\n",
    "\n",
    "    def get_imaginary(self):\n",
    "        return self._y\n",
    "\n",
    "    def get_length(self):\n",
    "        return np.sqrt(self._x * self._x + self._y * self._y)\n",
    "\n",
    "    def __neg__(self):\n",
    "        \"\"\" Negation. \"\"\"\n",
    "        return ComplexNumber(-self.get_real(), -self.get_imaginary())\n",
    "\n",
    "    def __add__(self, z):\n",
    "        \"\"\" Addition. \"\"\"\n",
    "        z = ComplexNumber(z)\n",
    "        x = self.get_real() + z.get_real()\n",
    "        y = self.get_imaginary() + z.get_imaginary()\n",
    "        return ComplexNumber(x, y)\n",
    "\n",
    "    def __radd__(self, z):\n",
    "        \"\"\" Addition. \"\"\"\n",
    "        return self.__add__(z)\n",
    "\n",
    "    def __sub__(self, z):\n",
    "        \"\"\" Subtraction. \"\"\"\n",
    "        return self.__add__(z.__neg__())\n",
    "\n",
    "    def __rsub__(self, z):\n",
    "        \"\"\" Subtraction. \"\"\"\n",
    "        return self.__sub__(z).__neg__()\n",
    "\n",
    "    def __mul__(self, z):\n",
    "        \"\"\" Multiplication. \"\"\"\n",
    "        z = ComplexNumber(z)\n",
    "        x = self.get_real() * z.get_real() - self.get_imaginary() * z.get_imaginary()\n",
    "        y = self.get_real() * z.get_imaginary() + self.get_imaginary() * z.get_real()\n",
    "        return ComplexNumber(x, y)\n",
    "\n",
    "    def __rmul__(self, z):\n",
    "        \"\"\" Multiplication. \"\"\"\n",
    "        return self.__mul__(z)\n",
    "\n",
    "    def __div__(self, z):\n",
    "        \"\"\" Division. \"\"\"\n",
    "        z = ComplexNumber(z)\n",
    "        z_ = z.complex_conjugate()\n",
    "        return (self * z_) * (1.0 / (z.get_length() ** 2))\n",
    "\n",
    "    def __rdiv__(self, z):\n",
    "        \"\"\" Division. \"\"\"\n",
    "        return (z * self.complex_conjugate()) / (self.get_length() ** 2)"
   ]
  },
  {
   "cell_type": "markdown",
   "metadata": {},
   "source": [
    "To demonstrate this is all correct (hopefully) we can see the results:"
   ]
  },
  {
   "cell_type": "code",
   "execution_count": 163,
   "metadata": {},
   "outputs": [
    {
     "name": "stdout",
     "output_type": "stream",
     "text": [
      "1.0 + 2.0i\n1.0 - 2.0i\n2.0\n2.0i\n"
     ]
    }
   ],
   "source": [
    "print a\n",
    "print b\n",
    "print c\n",
    "print d"
   ]
  },
  {
   "cell_type": "code",
   "execution_count": 164,
   "metadata": {},
   "outputs": [
    {
     "name": "stdout",
     "output_type": "stream",
     "text": [
      "1.0 + 2.0i\n-1.0 - 2.0i\n2.0i\n3.0 + 2.0i\n2.0 + 2.0i\n1.0 + 2.0i\n-2.0 + 2.0i\n2.0 - 2.0i\n2.0 + 4.0i\n2.0 + 4.0i\n0.5 + 1.0i\n0.2 - 0.4i\n"
     ]
    }
   ],
   "source": [
    "print a\n",
    "print -a\n",
    "print d\n",
    "print a + 2\n",
    "print 2.0 + d\n",
    "print a + b\n",
    "print d - 2.0\n",
    "print 2.0 - d\n",
    "print 2.0 * a\n",
    "print a * 2.0\n",
    "print a / 2.0\n",
    "print 1.0 / a"
   ]
  }
 ],
 "metadata": {
  "kernelspec": {
   "display_name": "Python 2",
   "language": "python",
   "name": "python2"
  },
  "language_info": {
   "codemirror_mode": {
    "name": "ipython",
    "version": 2.0
   },
   "file_extension": ".py",
   "mimetype": "text/x-python",
   "name": "python",
   "nbconvert_exporter": "python",
   "pygments_lexer": "ipython2",
   "version": "2.7.6"
  }
 },
 "nbformat": 4,
 "nbformat_minor": 0
}