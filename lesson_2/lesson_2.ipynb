{
 "cells": [
  {
   "cell_type": "markdown",
   "metadata": {
    "collapsed": true
   },
   "source": [
    "# Introduction to coding\n",
    "\n",
    "### Lesson 2\n",
    "\n",
    "#### Author\n",
    "\n",
    "Oliver Sheridan-Methven\n",
    "\n",
    "##### Date\n",
    "\n",
    "September 2017.\n",
    "    \n",
    "#### Description:\n",
    "\n",
    "An introduction to:\n",
    "   \n",
    " * Control flow (if else, while, for)\n",
    " * Input and output (console and file).\n",
    " * Functions.\n"
   ]
  },
  {
   "cell_type": "markdown",
   "metadata": {},
   "source": [
    "### If Else\n",
    "\n",
    "Often we will want sections/portions of code to execute if some condition is met. In order to assess whether the condition is met, we need to have some sort of check, which returns a boolean, such that is the condition is met the statement will return `True`, (and return `False` if the condition is not satified). Consider the following trivial example:"
   ]
  },
  {
   "cell_type": "code",
   "execution_count": 1,
   "metadata": {},
   "outputs": [
    {
     "name": "stdout",
     "output_type": "stream",
     "text": [
      "The value of \"a\" is positive.\n"
     ]
    }
   ],
   "source": [
    "a = 0.3\n",
    "if a >= 0.0:\n",
    "    print('The value of \"a\" is positive.')\n",
    "if a < 0.0:\n",
    "    print('The value of \"a\" is negative.')"
   ]
  },
  {
   "cell_type": "markdown",
   "metadata": {},
   "source": [
    "The above portion of code can be broken down as:\n",
    "```\n",
    "if STATEMENT:\n",
    "\tdo something.\n",
    "```\n",
    "We notice that is the statement is not true then we would skip over the portion of code within the if statement."
   ]
  },
  {
   "cell_type": "markdown",
   "metadata": {},
   "source": [
    "The next natural extension of `if` statement is the if else. This takes the form:\n",
    "```\n",
    "if STATEMENT:\n",
    "\tdo something.\n",
    "else:\n",
    "\tdo something else. \n",
    "```\n",
    "It is often the case though that if one condition is not met then you suspect another condition is likely, and you would like to test this. These `if else` are broken by `elif` in Python, and the first condition which is satisfied will be the first and only condition to be executed. The form these take is:\n",
    "```\n",
    "if STATEMENT_1:\n",
    "\tdo something.\n",
    "elif STATEMENT_2:\n",
    "\tdo someting else.\n",
    "elif STATEMENT_3:\n",
    "\tdo something different. etc.\n",
    "\t\t...\n",
    "else:\n",
    "\tIf all else fails, do this. \n",
    "```\n",
    "An example of this might be:"
   ]
  },
  {
   "cell_type": "code",
   "execution_count": 2,
   "metadata": {},
   "outputs": [
    {
     "name": "stdout",
     "output_type": "stream",
     "text": [
      "The value of \"a\" is strictly positive.\n"
     ]
    }
   ],
   "source": [
    "a = 2017\n",
    "if a > 0:\n",
    "    print('The value of \"a\" is strictly positive.')\n",
    "elif a < 0:\n",
    "    print('The value of \"a\" is strictly negative.')\n",
    "else: \n",
    "    print('The value of \"a\" is zero.')"
   ]
  },
  {
   "cell_type": "markdown",
   "metadata": {},
   "source": [
    "#### While loops\n",
    "\n",
    "Similar to an `if else` condition, we can construct a `while` loop. \n",
    "This has the format:\n",
    "```\n",
    "while CONDITION:\n",
    "\tdo something repeatedly until the condition is no longer satisfied.\n",
    "```\n",
    "e.g."
   ]
  },
  {
   "cell_type": "code",
   "execution_count": 1,
   "metadata": {},
   "outputs": [
    {
     "name": "stdout",
     "output_type": "stream",
     "text": [
      "The value of \"a\" is: 5\n",
      "The value of \"a\" is: 4\n",
      "The value of \"a\" is: 3\n",
      "The value of \"a\" is: 2\n",
      "The value of \"a\" is: 1\n",
      "The value of \"a\" is: 0\n",
      "We are outside the while loop.\n",
      "The value of \"a\" is: -1\n"
     ]
    }
   ],
   "source": [
    "a = 5\n",
    "while a >= 0:\n",
    "    print('The value of \"a\" is: {}'.format(a))\n",
    "    a -= 1\n",
    "print('We are outside the while loop.')\n",
    "print('The value of \"a\" is: {}'.format(a))"
   ]
  },
  {
   "cell_type": "markdown",
   "metadata": {},
   "source": [
    "#### For loops.\n",
    "\n",
    "For loops are not too disimilar from the `if else` statements and the `while loops`. The basic format of a for loop is:\n",
    "```\n",
    "for i in iterable:\n",
    "\tdo something with i.\n",
    "``` \n",
    "The basic requirement for these types of loops is the concept of an iterable. These are very simple constructs and are some sort of object which holds a set of items. These items are then assigned to `i` in the order that they appear in the iterable. Common iterable items include lists, sets, tuples, (and dictionaries)."
   ]
  },
  {
   "cell_type": "code",
   "execution_count": 2,
   "metadata": {},
   "outputs": [
    {
     "name": "stdout",
     "output_type": "stream",
     "text": [
      "The value of \"i\" is: 1\n",
      "The value of \"i\" is: 2\n",
      "The value of \"i\" is: 3\n",
      "The value of \"i\" is: 4\n",
      "We have finished the for loop.\n"
     ]
    }
   ],
   "source": [
    "for i in [1, 2, 3, 4]:\n",
    "    print('The value of \"i\" is: {}'.format(i))\n",
    "print('We have finished the for loop.')"
   ]
  },
  {
   "cell_type": "markdown",
   "metadata": {},
   "source": [
    "> Notice this is a very different ethos to the `for` statement which uses of C might be used to, which follows\n",
    "```\n",
    "/* A for loop in C. */\n",
    "int main () {\n",
    "\tfor(unsigned int i = 0; i <= 5; i++) {\n",
    "\t\t// Do something with i.\n",
    "\t}\n",
    "\treturn 0;\n",
    "}\n",
    "\n",
    "```"
   ]
  },
  {
   "cell_type": "markdown",
   "metadata": {},
   "source": [
    "Similarly for the other types of iterables:"
   ]
  },
  {
   "cell_type": "code",
   "execution_count": 4,
   "metadata": {},
   "outputs": [
    {
     "name": "stdout",
     "output_type": "stream",
     "text": [
      "Iterating through tuples.\n",
      "Iterating through tuples.\n",
      "Iterating through sets.\n",
      "Iterating through sets.\n",
      "Iterating through a dictionary, key = \"key_1\", Value = \"value_1\"\n",
      "Iterating through a dictionary, key = \"key_2\", Value = \"value_2\"\n"
     ]
    }
   ],
   "source": [
    "for i in (1, 2):\n",
    "    print('Iterating through tuples.')\n",
    "for j in {1, 2}:\n",
    "    print('Iterating through sets.')\n",
    "for k, v in {'key_1': 'value_1', 'key_2': 'value_2'}.iteritems():\n",
    "    print('Iterating through a dictionary, key = \"{}\", Value = \"{}\"'.format(k, v))"
   ]
  },
  {
   "cell_type": "markdown",
   "metadata": {},
   "source": [
    ">Notice that when we iterated through the dictionaries we placed two items `k, v` after the `for`, and that we used the dictionaries `.iteritems()` method. Instead of using the `.iteritem()` we could have used `.iterkeys()` or `.itervalues()`."
   ]
  },
  {
   "cell_type": "markdown",
   "metadata": {},
   "source": [
    ">A final note of warning with using `for` and `while` loops is being caught inside a loop which will not terminate. Only sometimes is this intentional, and while some programmers will use `break` and `continue` statements to handle this, this is difficult to navigate, and so it is advisable to be explicit when you intend to **enter and leave** your loops. Consider:"
   ]
  },
  {
   "cell_type": "code",
   "execution_count": 3,
   "metadata": {},
   "outputs": [
    {
     "name": "stdout",
     "output_type": "stream",
     "text": [
      "The while loop has been running for 1s.\n",
      "The while loop has been running for 2s.\n",
      "The while loop has been running for 3s.\n",
      "The while loop has been running for 4s.\n",
      "The while loop has been running for 5s.\n",
      "\n",
      "l = [1, 2], i = 1\n",
      "\n",
      "l = [1, 2, 3], i = 2\n",
      "\n",
      "l = [1, 2, 3, 5], i = 3\n",
      "\n",
      "l = [1, 2, 3, 5, 7], i = 5\n",
      "\n",
      "l = [1, 2, 3, 5, 7, 10], i = 7\n"
     ]
    }
   ],
   "source": [
    "import time\n",
    "import datetime as dt\n",
    "\n",
    "t_start = dt.datetime.now()\n",
    "\n",
    "while True:\n",
    "    time.sleep(1.0)\n",
    "    t = dt.datetime.now() - t_start\n",
    "    print('The while loop has been running for {}s.'.format(t.seconds))\n",
    "    if t > dt.timedelta(seconds=5): break  # We force a break using an inline check. \n",
    "\n",
    "\n",
    "l = [1, 2]\n",
    "for i in l:\n",
    "    print('\\nl = {}, i = {}'.format(l, i))\n",
    "    l.append(i + len(l))\n",
    "    if i <= 2: \n",
    "        continue  # We restart the for loop at the beginning and continue:\n",
    "    elif i > 5:\n",
    "        break"
   ]
  },
  {
   "cell_type": "markdown",
   "metadata": {},
   "source": [
    ">We have seen in passing the `continue` and `break` statements. We will use these more in passing, but they are very simple. The most simple control flow statement is the `pass` statement, which does nothing."
   ]
  },
  {
   "cell_type": "markdown",
   "metadata": {},
   "source": [
    "### Input and output.\n",
    "\n",
    "We have already seen the simplest type of output when using the `print` statement. There are two routes available for entering input and producing output, and these are the console and file."
   ]
  },
  {
   "cell_type": "code",
   "execution_count": 1,
   "metadata": {},
   "outputs": [
    {
     "name": "stdout",
     "output_type": "stream",
     "text": [
      "Please enter your nameoliver\n",
      "Your name is oliver\n"
     ]
    }
   ],
   "source": [
    "try:\n",
    "    my_name = raw_input('Please enter your name')  # This needs to be run in the console. \n",
    "    print('Your name is ' + my_name)\n",
    "except: \n",
    "    pass"
   ]
  },
  {
   "cell_type": "markdown",
   "metadata": {},
   "source": [
    "A user can also input code for the program to execute."
   ]
  },
  {
   "cell_type": "code",
   "execution_count": 2,
   "metadata": {},
   "outputs": [
    {
     "name": "stdout",
     "output_type": "stream",
     "text": [
      "Assign a value to the variable \"a\".3\n",
      "3\n"
     ]
    }
   ],
   "source": [
    "try:\n",
    "    a = input('Assign a value to the variable \"a\".')\n",
    "    print(a)\n",
    "except:\n",
    "    pass"
   ]
  },
  {
   "cell_type": "markdown",
   "metadata": {},
   "source": [
    "#### CAUTION\n",
    "\n",
    "> It is extremely rare to ever require the user to input anything for a programm to run. The are two reasons for this:\n",
    "\t1. Users cannot be trusted to enter instructions that are correct (users are stupid).\n",
    "\t2. Users cannot be trusted to enter instructions that are intended (users are malicious).\n",
    "\n",
    "The first point is usually the biggest headache (as you will see if ever you deal with users data when they fill in forms). The second however is the main issue. Having users being able to enter values, or even worse by enetering instructions, is considered a huge security black hole. **Avoid this at all costs**. Users can enter input to make your code break, act incorrectly, overflow, crash/stall a server. One of the worst example of how a user can enter malicious input is 'SQL injection', which is an example where the user enters input which appears to work correctly, throws no warnings, but results data theft. "
   ]
  },
  {
   "cell_type": "markdown",
   "metadata": {},
   "source": [
    "### Reading and writing to and from files\n",
    "\n",
    "Aside from the console output, it is much more useful to read information that is stored inside a file (e.g. csv, tdf, `.dat`, `.xlsl`, etc.). Reading and writing to a file is quite simple. One simple task is to read input from a file. Consider the following:\n"
   ]
  },
  {
   "cell_type": "code",
   "execution_count": 21,
   "metadata": {},
   "outputs": [
    {
     "name": "stdout",
     "output_type": "stream",
     "text": [
      "The raw format:\n",
      "\n",
      "['My name is Oliver.\\n', 'I am teaching you Python.']\n",
      "\n",
      "\n",
      "The more user friendly format:\n",
      "\n",
      "My name is Oliver.\n",
      "\n",
      "I am teaching you Python.\n",
      "\n",
      "\n",
      "The first 20 primes are:\n",
      "\t[2, 3, 5, 7, 11, 13, 17, 19, 23, 29, 31, 37, 41, 43, 47, 53, 59, 61, 67, 71].\n"
     ]
    }
   ],
   "source": [
    "txt_file = open('lesson_2/example_input.txt', 'r')\n",
    "lines = txt_file.readlines()\n",
    "txt_file.close()\n",
    "print('The raw format:\\n')\n",
    "print lines\n",
    "print('\\n\\nThe more user friendly format:\\n')\n",
    "for l in lines: print str(l)\n",
    "\n",
    "import csv  # Useful for reading csv files. \n",
    "from itertools import islice  # Useful for iterating through things, including lines of files. \n",
    "\n",
    "primes = []\n",
    "with open('lesson_2/primes.csv') as csv_file:  # It is safer to open files within a `with` scope. \n",
    "    for row in islice(csv.reader(csv_file), 1, None):  # We skip the first line which is a header.\n",
    "        primes.append(int(row[1]))\n",
    "\n",
    "print('\\n\\nThe first 20 primes are:\\n\\t{}.'.format(primes[:20]))"
   ]
  },
  {
   "cell_type": "markdown",
   "metadata": {},
   "source": [
    "In the above, it is safer to open a file using the `with open('file_name') as file:`, as this ensures if the programme crashes that the file closes properly and safely, and is considered easier to read. We used the format `open('file', 'r')`, where the `r` stands for read. similarly we can use `w` for writing, and `a` for appending to a file, (we can combine these, where `r+` is for reading and writing). If we plan to read or write items not as strings, then it is often useful to also include the `b`, e.g. `rb` for reading data, the the `b` stands for binary mode (useful for Windows users). "
   ]
  },
  {
   "cell_type": "code",
   "execution_count": 24,
   "metadata": {
    "collapsed": true
   },
   "outputs": [],
   "source": [
    "squares = [i**2 for i in range(11)]\n",
    "with open('lesson_2/example_output.txt', 'wb') as output:\n",
    "    for s in squares:\n",
    "        output.write('{}\\n'.format(s))"
   ]
  },
  {
   "cell_type": "markdown",
   "metadata": {},
   "source": [
    "> This may seem quite a verbose way of reading and writing to files, but in lesson 3 when we introduce the `pandas` package, we will see there are much easier and more suscint ways of doing this!"
   ]
  },
  {
   "cell_type": "markdown",
   "metadata": {},
   "source": [
    "### Functions\n",
    "\n",
    "Until now we have written our code without much structure or purpose. However, for most applications it is extremely useful to bundle snippits of code into function calls, which have a relatively short and suscint purpose. This acts to help you (or someone else!) understand what your code is meant to be doing at a glance, and hide what's happening under the hood. This also avoids the need for copy and pasting.\n",
    "\n",
    "> Copying and pasting code is a cardinal sin. It makes code hard to read, extremely error prone, and impossible to maintain. **Don't do it**. If you have evey copied and pasted anything (even as small as a single line), then rethink what you're doing.  \n",
    "\n",
    "The basic format for a function is:\n",
    "```\n",
    "def function_name(arguments):\n",
    "\t\"\"\" A description! \"\"\"\n",
    "\tdo something with the arguements\n",
    "\treturn answer\n",
    "```"
   ]
  },
  {
   "cell_type": "code",
   "execution_count": 17,
   "metadata": {},
   "outputs": [
    {
     "name": "stdout",
     "output_type": "stream",
     "text": [
      "The max of 1 and 2 is 2.\n",
      "The max of 3 and 4 is 4.\n",
      "The max of -20 and 10 is 10.\n"
     ]
    }
   ],
   "source": [
    "def my_max(a, b):\n",
    "    \"\"\"\n",
    "    Returns the maximum of two numbers\n",
    "    :param a: Float.\n",
    "    :param b: Float.\n",
    "    :return: Float, the maximum.\n",
    "    \"\"\"\n",
    "    c = None\n",
    "\n",
    "    if a > b:\n",
    "        c = a\n",
    "    else:\n",
    "        c = b\n",
    "\n",
    "    return c\n",
    "\n",
    "\n",
    "for a, b in [[1, 2], [3, 4], [-20, 10]]:\n",
    "    print('The max of {} and {} is {}.'.format(a, b, my_max(a, b)))"
   ]
  },
  {
   "cell_type": "markdown",
   "metadata": {},
   "source": [
    "A good practice to adopt is to write assertions at the begginning of your functions. This will help you track down bugs in your code, and ensure users use it correctly. "
   ]
  },
  {
   "cell_type": "code",
   "execution_count": 1,
   "metadata": {},
   "outputs": [
    {
     "name": "stdout",
     "output_type": "stream",
     "text": [
      "I was born on a Wednesday.\nI was born on a Wednesday.\nI was born on a Friday.\nOops, something went wrong:\n\n\tday is out of range for month\n"
     ]
    }
   ],
   "source": [
    "def my_day_of_birth(year, month, day):\n",
    "    \"\"\"\n",
    "    The day of the week you were born on.\n",
    "    :param year: Int, year using the Julien calendar, assumes AD dates.\n",
    "    :param month: Int or string, month, either in 3 character format or in full. \n",
    "    :param day: Int, day of the month.\n",
    "    :return: String, weekday.\n",
    "    \"\"\"\n",
    "    assert year >= 0 and type(year) == int, 'Please input a positive year as an integer.'\n",
    "    assert type(month) == int or len(month) >= 3, 'Please input the month as a integer or as a 3 character string.'\n",
    "    assert 31 >= day >= 1 and type(day) == int, 'Please input an integer day between 1 and 31.'\n",
    "    month_to_num = dict(zip(['jan', 'feb', 'mar', 'apr', 'may', 'jun', 'jul', 'aug', 'sep', 'oct', 'nov', 'dec'], range(1, 13)))\n",
    "    if type(month) == str:\n",
    "        month = month_to_num[month.lower().strip()[:3]]\n",
    "    import datetime as dt\n",
    "    weekday = dt.datetime(year=year, month=month, day=day).strftime('%A')\n",
    "    return weekday\n",
    "\n",
    "print('I was born on a {}.'.format(my_day_of_birth(1993, 5, 19)))\n",
    "print('I was born on a {}.'.format(my_day_of_birth(1993, 'May', 19)))\n",
    "print('I was born on a {}.'.format(my_day_of_birth(1961, '  August ', 4)))\n",
    "\n",
    "try:\n",
    "    print('I was born on a {}.'.format(my_day_of_birth(1993, 2, 30)))\n",
    "except Exception as e:\n",
    "    print('Oops, something went wrong:')\n",
    "    print('\\n\\t{}'.format(e))"
   ]
  },
  {
   "cell_type": "markdown",
   "metadata": {},
   "source": [
    "The above example is gives some idea about how to include assertions in your code. While you may think *your code is too simple to go wrong*, this is never the case. Try to cover all the scenarios where you think something might go wrong, either when the user inputs edge cases, uses a different data-structure or format for the input, or any special cases. Try to ensure all scenarios are covered, but be warey of making too much of an effort to manipulate the user's input to work within the function. (Some programmers believe it is the user's responsibility to ensure they call the function correctly, and that the function should break readily when this is not the case). \n",
    "\n",
    "> In the above example I have combined many of the features we have encountered so far. However, this example if somewhat artifical as we can see that I have used the date facilities from the `datetime` package. This is not uncommon, and I would encourage uses to use functions (however simple) from other packages. Odds are they are better coded, better tested, and better documented than yours.\n",
    "\n",
    "> Furthermore, computing a data-type for dates is very tricky and involved if you would like to be able to use this over a large span of years (think centuries, millenia, etc), as we have changed from calendar systems. The change from the Julien to the Gregorian calendar resulted in several days being lost in some years (changing from country to country!), and some dates being odd, such as 30-th February, and some months with only 18 days. "
   ]
  },
  {
   "cell_type": "markdown",
   "metadata": {},
   "source": [
    "#### Lambda functions\n",
    "\n",
    "Lambda calculus is a branch of computational mathematics, but as far as Python is concerned this is the computable form of taking input and producing output through a simple mapping. In Python these are simple single line functions.\n",
    "\n",
    "Compare:"
   ]
  },
  {
   "cell_type": "code",
   "execution_count": 45,
   "metadata": {},
   "outputs": [
    {
     "name": "stdout",
     "output_type": "stream",
     "text": [
      "Explicit            Implicit            Input\n",
      "------------------------------------------------------------\n",
      "True                True                [0]\n",
      "\n",
      "True                True                [1]\n",
      "\n",
      "True                True                [0.5, 0.5]\n",
      "\n",
      "True                True                [0.5, 0.1, 0.3]\n",
      "\n",
      "True                True                [0.3, 0.3, 0.3, 0.3, 0.3, 0.3, 0.3, 0.3, 0.3, 0.3]\n",
      "\n",
      "False               False               [0.3, 0.3, 0.3, 0.3, 0.3, 0.3, 0.3, 0.3, 0.3, 0.3, 0.3, 0.3]\n",
      "\n"
     ]
    }
   ],
   "source": [
    "def inside_unit_sphere(*args):\n",
    "    \"\"\"\n",
    "    Determines if the arguments form a vector inside the unit sphere.\n",
    "    :param args: Floats, \n",
    "    :return: Boolean.\n",
    "    \"\"\"\n",
    "    assert len(args) >= 1, 'Please input some arguments.'\n",
    "    r = 0.0\n",
    "    for k in args:\n",
    "        r += k ** 2\n",
    "    return r <= 1.0\n",
    "\n",
    "inside_unit_sphere_2 = \\\n",
    "lambda *args: sum([i ** 2 for i in args]) <= 1.0\n",
    "\n",
    "print('{:20}{:20}{}\\n'.format('Explicit', 'Implicit', 'Input') + '-' * 60)\n",
    "for v in [[0], [1], [0.5, 0.5], [0.5, 0.1, 0.3], [0.3] * 10, [0.3] * 12]:\n",
    "    print('{:20}{:20}{}\\n'.format(str(inside_unit_sphere(*v)), str(inside_unit_sphere_2(*v)), v))"
   ]
  },
  {
   "cell_type": "markdown",
   "metadata": {},
   "source": [
    "Notice that the two functions above do the same thing, and the lambda function expression is a convenient way of suscintly writing some functionality. The full explicit form may be considered a bit of overkill, however, it does provide room for a docstring, some assertions, and a clearer layout. While it is up to the programmer to decide which to use, lambda functions should be used sparingly, and the more explicit form of function definition is generally prefered. "
   ]
  },
  {
   "cell_type": "markdown",
   "metadata": {},
   "source": [
    "#### Variable arguements and keyword arguements\n",
    "\n",
    "We have noticed in the above the use of variable arguements, and also keyword arguments. Consider the above situation using a different norm (rather than just the Euclidean l2 norm)."
   ]
  },
  {
   "cell_type": "code",
   "execution_count": 66,
   "metadata": {},
   "outputs": [
    {
     "name": "stdout",
     "output_type": "stream",
     "text": [
      "Metric                        Norm                                    Input\n",
      "------------------------------------------------------------------------------------------\n",
      "l0                            0                                       [0]\n",
      "\n",
      "l1                            0                                       [0]\n",
      "\n",
      "l2                            0.0                                     [0]\n",
      "\n",
      "inf                           0                                       [0]\n",
      "\n",
      "3                             0.0                                     [0]\n",
      "\n",
      "5.0                           0.0                                     [0]\n",
      "\n",
      "20.0                          0.0                                     [0]\n",
      "\n",
      "l0                            1                                       [1]\n",
      "\n",
      "l1                            1                                       [1]\n",
      "\n",
      "l2                            1.0                                     [1]\n",
      "\n",
      "inf                           1                                       [1]\n",
      "\n",
      "3                             1.0                                     [1]\n",
      "\n",
      "5.0                           1.0                                     [1]\n",
      "\n",
      "20.0                          1.0                                     [1]\n",
      "\n",
      "l0                            1.5                                     [0.5, 0.5]\n",
      "\n",
      "l1                            1.0                                     [0.5, 0.5]\n",
      "\n",
      "l2                            0.866025403784                          [0.5, 0.5]\n",
      "\n",
      "inf                           0.5                                     [0.5, 0.5]\n",
      "\n",
      "3                             0.854987973338                          [0.5, 0.5]\n",
      "\n",
      "5.0                           0.881170173916                          [0.5, 0.5]\n",
      "\n",
      "20.0                          0.965936421044                          [0.5, 0.5]\n",
      "\n",
      "l0                            2.5                                     [0.5, 0.1, 0.3]\n",
      "\n",
      "l1                            0.9                                     [0.5, 0.1, 0.3]\n",
      "\n",
      "l2                            0.774596669241                          [0.5, 0.1, 0.3]\n",
      "\n",
      "inf                           0.5                                     [0.5, 0.1, 0.3]\n",
      "\n",
      "3                             0.808248004124                          [0.5, 0.1, 0.3]\n",
      "\n",
      "5.0                           0.871398566954                          [0.5, 0.1, 0.3]\n",
      "\n",
      "20.0                          0.965936328928                          [0.5, 0.1, 0.3]\n",
      "\n",
      "l0                            3.3                                     [0.3, 0.3, 0.3, 0.3]\n",
      "\n",
      "l1                            1.2                                     [0.3, 0.3, 0.3, 0.3]\n",
      "\n",
      "l2                            0.754983443527                          [0.3, 0.3, 0.3, 0.3]\n",
      "\n",
      "inf                           0.3                                     [0.3, 0.3, 0.3, 0.3]\n",
      "\n",
      "3                             0.724950452421                          [0.3, 0.3, 0.3, 0.3]\n",
      "\n",
      "5.0                           0.789786462752                          [0.3, 0.3, 0.3, 0.3]\n",
      "\n",
      "20.0                          0.941577479869                          [0.3, 0.3, 0.3, 0.3]\n",
      "\n"
     ]
    }
   ],
   "source": [
    "def norm(x=0.0, *args, **kwargs):\n",
    "    \"\"\"\n",
    "    Computes the different l-norms. \n",
    "    :param x: Float, Initial value of norm.\n",
    "    :param args: Floats, vector components.\n",
    "    :param kwargs: Dict, parameters for computing the norm. (e.g. norm).\n",
    "    :return: Bool, inside the unit sphere.\n",
    "    \"\"\"\n",
    "    defined_norms = ('l0', 'l1', 'l2', 'inf')  # And positive floats. \n",
    "    params = {'norm': 'l1'}\n",
    "    for k in kwargs.iterkeys():\n",
    "        assert k in params.iterkeys(), 'The parameter {} in the keyword arguments is not known.'.format(k)\n",
    "        params[k] = kwargs[k]\n",
    "    assert params['norm'] in defined_norms or type(params['norm']) in [float, int], 'Please input a float or integer norm value, or \\'l0/1/2\\' or \\'inf\\'.'\n",
    "    r = x\n",
    "    for i in args:\n",
    "        if params['norm'] == 'l0':\n",
    "            r += i != 0\n",
    "        elif params['norm'] == 'l1':\n",
    "            r += abs(i)\n",
    "        elif params['norm'] == 'l2':\n",
    "            r += i ** 2.0\n",
    "        elif params['norm'] == 'inf':\n",
    "            r = max(i, r)\n",
    "        else:\n",
    "            r += i ** params['norm']\n",
    "\n",
    "    if params['norm'] == 'l0':\n",
    "        pass\n",
    "    elif params['norm'] == 'l1':\n",
    "        pass\n",
    "    elif params['norm'] == 'l2':\n",
    "        r = r ** 0.5\n",
    "    elif params['norm'] == 'inf':\n",
    "        pass\n",
    "    else:\n",
    "        r = pow(r, 1.0 / params['norm'])\n",
    "        \n",
    "    return r\n",
    "\n",
    "\n",
    "print('{:<30}{:<40}{}\\n'.format('Metric', 'Norm', 'Input') + '-' * 90)\n",
    "for v in [[0], [1], [0.5, 0.5], [0.5, 0.1, 0.3], [0.3] * 4]:\n",
    "    for metric in ['l0', 'l1', 'l2', 'inf', 3, 5.0, 20.0]:\n",
    "        print('{:<30}{:<40}{}\\n'.format(metric, norm(*v, **{'norm': metric}), v))"
   ]
  },
  {
   "cell_type": "markdown",
   "metadata": {},
   "source": [
    "#### Recursive functions\n",
    "\n",
    "Often a function can be easily posed in terms of a few known function values, and an expression for how a new function value depends on other function values. A well known example of this is provided by the Fibonacci sequence:\n",
    "\n",
    ">1, 1, 2, 3, 5, 8, 13, 21, ...\n",
    "\n",
    "Where we see that if the n-th term in the sequence is denoted by f(n) then we have\n",
    "\n",
    ">f(n) = f(n-1) + f(n-2)\n",
    "\n",
    "By convention we choose the first two terms of the sequence to be f(1) = f(2) = 1.\n"
   ]
  },
  {
   "cell_type": "code",
   "execution_count": 1,
   "metadata": {},
   "outputs": [
    {
     "name": "stdout",
     "output_type": "stream",
     "text": [
      "[1, 1, 2, 3, 5, 8, 13, 21, 34, 55, 89, 144, 233, 377, 610, 987, 1597, 2584, 4181]\n"
     ]
    }
   ],
   "source": [
    "def fibonacci_recursive(n):\n",
    "    \"\"\"\n",
    "    Return the n-th term in the Fibonacci sequence, where f(1) = f(2) = 1.\n",
    "     1, 1, 2, 3, 5, 8, 13, 21, ...\n",
    "    :param n: Int, element of the Fibonacci sequence.\n",
    "    :return: Int, Fibonacci number.\n",
    "    \"\"\"\n",
    "    assert n > 0, 'Please input a positive element in the Fibonacci sequence.'\n",
    "    assert type(n) == int, 'Please input an integer.'\n",
    "    if n == 1:\n",
    "        return 1\n",
    "    elif n == 2:\n",
    "        return 1\n",
    "    else:\n",
    "        return fibonacci_recursive(n - 1) + fibonacci_recursive(n - 2)\n",
    "    \n",
    "print [fibonacci_recursive(n) for n in range(1, 20)]"
   ]
  },
  {
   "cell_type": "markdown",
   "metadata": {},
   "source": [
    "So how does this compare to the exact closed form expression:"
   ]
  },
  {
   "cell_type": "code",
   "execution_count": 2,
   "metadata": {},
   "outputs": [
    {
     "name": "stdout",
     "output_type": "stream",
     "text": [
      "[1, 1, 2, 3, 5, 8, 13, 21, 34, 55, 89, 144, 233, 377, 610, 987, 1597, 2584, 4181]\n"
     ]
    }
   ],
   "source": [
    "def fibonacci_closed(n):\n",
    "    \"\"\"\n",
    "    Return the n-th term in the Fibonacci sequence, where f(1) = f(2) = 1.\n",
    "     1, 1, 2, 3, 5, 8, 13, 21, ...\n",
    "    :param n: Int, element of the Fibonacci sequence.\n",
    "    :return: Int, Fibonacci number.\n",
    "    \"\"\"\n",
    "    assert type(n) == int, 'Please input an integer.'\n",
    "    p = 0.5 * (1.0 + 5.0 ** 0.5)\n",
    "    return int(round(p ** n / 5.0 ** 0.5))\n",
    "\n",
    "print [fibonacci_closed(n) for n in range(1, 20)]"
   ]
  },
  {
   "cell_type": "markdown",
   "metadata": {},
   "source": [
    "We can quickly see how these compare by timing these functions:"
   ]
  },
  {
   "cell_type": "code",
   "execution_count": 13,
   "metadata": {},
   "outputs": [
    {
     "data": {
      "image/png": "[encoded data removed]",
      "text/plain": [
       "<matplotlib.figure.Figure at 0x7f230a4ac5d0>"
      ]
     },
     "metadata": {},
     "output_type": "display_data"
    }
   ],
   "source": [
    "from time import time\n",
    "import matplotlib.pylab as plt\n",
    "\n",
    "# What we will store the data in.\n",
    "times_recursive, times_exact = [], []\n",
    "n = range(1, 31)\n",
    "\n",
    "# Timing the results. \n",
    "for i in n:\n",
    "    t_start = time()\n",
    "    fibonacci_recursive(i)\n",
    "    times_recursive.append(time() - t_start)\n",
    "    t_start = time()\n",
    "    fibonacci_closed(i)\n",
    "    times_exact.append(time() - t_start)\n",
    "\n",
    "\n",
    "# Plotting the results.\n",
    "plt.figure(figsize=(15,10))\n",
    "plt.plot(n, times_recursive, 'ko:', label='Recursive')\n",
    "plt.plot(n, times_exact, 'ro:', label='Non-recursive')\n",
    "plt.legend()\n",
    "plt.yscale('log')\n",
    "plt.ylabel('Time (s)')\n",
    "plt.xlabel('n')\n",
    "plt.show()"
   ]
  },
  {
   "cell_type": "markdown",
   "metadata": {},
   "source": [
    "More examples of recursive functions can include:\n",
    "\n",
    " * Addition.\n",
    " * Multiplication.\n",
    " * The factorial function.\n",
    " * Greatest common denominator. "
   ]
  },
  {
   "cell_type": "code",
   "execution_count": null,
   "metadata": {
    "collapsed": true
   },
   "outputs": [],
   "source": [
    ""
   ]
  }
 ],
 "metadata": {
  "kernelspec": {
   "display_name": "Python 2",
   "language": "python",
   "name": "python2"
  },
  "language_info": {
   "codemirror_mode": {
    "name": "ipython",
    "version": 2.0
   },
   "file_extension": ".py",
   "mimetype": "text/x-python",
   "name": "python",
   "nbconvert_exporter": "python",
   "pygments_lexer": "ipython2",
   "version": "2.7.13"
  }
 },
 "nbformat": 4,
 "nbformat_minor": 0
}