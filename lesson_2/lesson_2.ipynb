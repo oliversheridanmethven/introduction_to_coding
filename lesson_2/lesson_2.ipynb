{
 "cells": [
  {
   "cell_type": "markdown",
   "metadata": {
    "collapsed": true
   },
   "source": [
    "# Oxford international college\n",
    "\n",
    "## An introduction to coding\n",
    "\n",
    "### Lesson 2\n",
    "\n",
    "#### Author\n",
    "\n",
    "Oliver Sheridan-Methven\n",
    "\n",
    "##### Date\n",
    "\n",
    "September 2017.\n",
    "    \n",
    "#### Description:\n",
    "\n",
    "An introduction to:\n",
    "   \n",
    " * Control flow (if else, while, for)\n",
    " * Input and output (console and file).\n",
    " * Functions.\n"
   ]
  },
  {
   "cell_type": "markdown",
   "metadata": {},
   "source": [
    "### If Else\n",
    "\n",
    "Often we will want sections/portions of code to execute if some condition is met. In order to assess whether the condition is met, we need to have some sort of check, which returns a boolean, such that is the condition is met the statement will return `True`, (and return `False` if the condition is not satified). Consider the following trivial example:"
   ]
  },
  {
   "cell_type": "code",
   "execution_count": 1,
   "metadata": {},
   "outputs": [
    {
     "name": "stdout",
     "output_type": "stream",
     "text": [
      "The value of \"a\" is positive.\n"
     ]
    }
   ],
   "source": [
    "a = 0.3\n",
    "if a >= 0.0:\n",
    "    print('The value of \"a\" is positive.')\n",
    "if a < 0.0:\n",
    "    print('The value of \"a\" is negative.')"
   ]
  },
  {
   "cell_type": "markdown",
   "metadata": {},
   "source": [
    "The above portion of code can be broken down as:\n",
    "```\n",
    "if STATEMENT:\n",
    "\tdo something.\n",
    "```\n",
    "We notice that is the statement is not true then we would skip over the portion of code within the if statement."
   ]
  },
  {
   "cell_type": "markdown",
   "metadata": {},
   "source": [
    "The next natural extension of `if` statement is the if else. This takes the form:\n",
    "```\n",
    "if STATEMENT:\n",
    "\tdo something.\n",
    "else:\n",
    "\tdo something else. \n",
    "```\n",
    "It is often the case though that if one condition is not met then you suspect another condition is likely, and you would like to test this. These `if else` are broken by `elif` in Python, and the first condition which is satisfied will be the first and only condition to be executed. The form these take is:\n",
    "```\n",
    "if STATEMENT_1:\n",
    "\tdo something.\n",
    "elif STATEMENT_2:\n",
    "\tdo someting else.\n",
    "elif STATEMENT_3:\n",
    "\tdo something different. etc.\n",
    "\t\t...\n",
    "else:\n",
    "\tIf all else fails, do this. \n",
    "```\n",
    "An example of this might be:"
   ]
  },
  {
   "cell_type": "code",
   "execution_count": 2,
   "metadata": {},
   "outputs": [
    {
     "name": "stdout",
     "output_type": "stream",
     "text": [
      "The value of \"a\" is strictly positive.\n"
     ]
    }
   ],
   "source": [
    "a = 2017\n",
    "if a > 0:\n",
    "    print('The value of \"a\" is strictly positive.')\n",
    "elif a < 0:\n",
    "    print('The value of \"a\" is strictly negative.')\n",
    "else: \n",
    "    print('The value of \"a\" is zero.')"
   ]
  },
  {
   "cell_type": "markdown",
   "metadata": {},
   "source": [
    "#### While loops\n",
    "\n",
    "Similar to an `if else` condition, we can construct a `while` loop. \n",
    "This has the format:\n",
    "```\n",
    "while CONDITION:\n",
    "\tdo something repeatedly until the condition if no longer satisfied.\n",
    "```\n",
    "e.g."
   ]
  },
  {
   "cell_type": "code",
   "execution_count": 3,
   "metadata": {},
   "outputs": [
    {
     "name": "stdout",
     "output_type": "stream",
     "text": [
      "The value of \"a\" is: 5\nThe value of \"a\" is: 4\nThe value of \"a\" is: 3\nThe value of \"a\" is: 2\nThe value of \"a\" is: 1\nThe value of \"a\" is: 0\nWe are not outside the while loop.\nThe value of \"a\" is: -1\n"
     ]
    }
   ],
   "source": [
    "a = 5\n",
    "while a >= 0:\n",
    "    print('The value of \"a\" is: {}'.format(a))\n",
    "    a -= 1\n",
    "print('We are not outside the while loop.')\n",
    "print('The value of \"a\" is: {}'.format(a))"
   ]
  },
  {
   "cell_type": "markdown",
   "metadata": {},
   "source": [
    "#### For loops.\n",
    "\n",
    "For loops are not too disimilar from the `if else` statements and the `while loops`. The basic format of a for loop is:\n",
    "```\n",
    "for i in iterable:\n",
    "\tdo something with i.\n",
    "``` \n",
    "The basic requirement for these types of loops is the concept of an iterable. These are very simple constructs and are some sort of object which holds a set of items. These items are then assigned to `i` in the order that they appear in the iterable. Common iterable items include lists, sets, tuples, (and dictionaries)."
   ]
  },
  {
   "cell_type": "code",
   "execution_count": null,
   "metadata": {},
   "outputs": [],
   "source": [
    "for i in [1, 2, 3, 4]:\n",
    "    print('The value of \"i\" is: {}'.format(i))\n",
    "print('We have finished the for loop.')\n"
   ]
  },
  {
   "cell_type": "markdown",
   "metadata": {},
   "source": [
    "> Notice this is a very different ethos to the `for` statement which uses of C might be used to, which follows\n",
    "```\n",
    "/* A for loop in C. */\n",
    "int main () {\n",
    "\tfor(unsigned int i = 0; i <= 5; i++) {\n",
    "\t\t// Do something with i.\n",
    "\t}\n",
    "\treturn 0;\n",
    "}\n",
    "\n",
    "```"
   ]
  },
  {
   "cell_type": "markdown",
   "metadata": {},
   "source": [
    "Similarly for the other types of iterables:"
   ]
  },
  {
   "cell_type": "code",
   "execution_count": 4,
   "metadata": {},
   "outputs": [
    {
     "name": "stdout",
     "output_type": "stream",
     "text": [
      "Iterating through tuples.\nIterating through tuples.\nIterating through sets.\nIterating through sets.\nIterating through a dictionary, key = \"key_1\", Value = \"value_1\"\nIterating through a dictionary, key = \"key_2\", Value = \"value_2\"\n"
     ]
    }
   ],
   "source": [
    "for i in (1, 2):\n",
    "    print('Iterating through tuples.')\n",
    "for j in {1, 2}:\n",
    "    print('Iterating through sets.')\n",
    "for k, v in {'key_1': 'value_1', 'key_2': 'value_2'}.iteritems():\n",
    "    print('Iterating through a dictionary, key = \"{}\", Value = \"{}\"'.format(k, v))"
   ]
  },
  {
   "cell_type": "markdown",
   "metadata": {},
   "source": [
    ">Notice that when we iterated through the dictionaries we placed two items `k, v` after the `for`, and that we used the dictionaries `.iteritems()` method. Instead of using the `.iteritem()` we could have used `.iterkeys()` or `.itervalues()`."
   ]
  },
  {
   "cell_type": "markdown",
   "metadata": {},
   "source": [
    ">A final note of warning with using `for` and `while` loops is being caught inside a loop which will not terminate. Only sometimes is this intentional, and while some programmers will use `break` and `continue` statements to handle this, this is difficult to navigate, and so it is advisable to be explicit when you intend to **enter and leave** your loops. Consider:"
   ]
  },
  {
   "cell_type": "code",
   "execution_count": 11,
   "metadata": {},
   "outputs": [
    {
     "name": "stdout",
     "output_type": "stream",
     "text": [
      "The while loop has been running for 1s.\n"
     ]
    },
    {
     "name": "stdout",
     "output_type": "stream",
     "text": [
      "The while loop has been running for 2s.\n"
     ]
    },
    {
     "name": "stdout",
     "output_type": "stream",
     "text": [
      "The while loop has been running for 3s.\n"
     ]
    },
    {
     "name": "stdout",
     "output_type": "stream",
     "text": [
      "The while loop has been running for 4s.\n"
     ]
    },
    {
     "name": "stdout",
     "output_type": "stream",
     "text": [
      "The while loop has been running for 5s.\n\nl = [1, 2], i = 1\n\nl = [1, 2, 3], i = 2\n\nl = [1, 2, 3, 5], i = 3\n\nl = [1, 2, 3, 5, 7], i = 5\n\nl = [1, 2, 3, 5, 7, 10], i = 7\n"
     ]
    }
   ],
   "source": [
    "import time\n",
    "import datetime as dt\n",
    "\n",
    "t_start = dt.datetime.now()\n",
    "\n",
    "while True:\n",
    "    time.sleep(1.0)\n",
    "    t = dt.datetime.now() - t_start\n",
    "    print('The while loop has been running for {}s.'.format(t.seconds))\n",
    "    if t > dt.timedelta(seconds=5): break  # We force a break using an inline check. \n",
    "\n",
    "\n",
    "l = [1, 2]\n",
    "for i in l:\n",
    "    print('\\nl = {}, i = {}'.format(l, i))\n",
    "    l.append(i + len(l))\n",
    "    if i <= 2: \n",
    "        continue  # We restart the for loop at the beginning and continue:\n",
    "    elif i > 5:\n",
    "        break"
   ]
  },
  {
   "cell_type": "markdown",
   "metadata": {},
   "source": [
    ">We have seen in passing the `continue` and `break` statements. We will use these more in passing, but they are very simple. The most simple control flow statement is the `pass` statement, which does nothing."
   ]
  },
  {
   "cell_type": "markdown",
   "metadata": {},
   "source": [
    "### Input and output.\n",
    "\n",
    "We have already seen the simplest type of output when using the `print` statement. There are two routes available for entering input and producing output, and these are the console and file."
   ]
  },
  {
   "cell_type": "code",
   "execution_count": 16,
   "metadata": {
    "collapsed": false
   },
   "outputs": [],
   "source": [
    "try:\n",
    "    my_name = raw_input('Please enter your name')  # This needs to be run in the console. \n",
    "    print('Your name is ' + my_name)\n",
    "except: \n",
    "    pass"
   ]
  },
  {
   "cell_type": "markdown",
   "metadata": {},
   "source": [
    "A user can also input code for the program to execute."
   ]
  },
  {
   "cell_type": "code",
   "execution_count": 15,
   "metadata": {},
   "outputs": [],
   "source": [
    "try:\n",
    "    a = input('Assign a value to the variable \"a\".')\n",
    "    print(a)\n",
    "except:\n",
    "    pass"
   ]
  },
  {
   "cell_type": "markdown",
   "metadata": {},
   "source": [
    "#### CAUTION\n",
    "\n",
    "> It is extremely rare to ever require the user to input anything for a programm to run. The are two reasons for this:\n",
    "\t1. Users cannot be trusted to enter instructions that are correct (users are stupid).\n",
    "\t2. Users cannot be trusted to enter instructions that are intended (users are malicious).\n",
    "\n",
    "The first point is usually the biggest headache (as you will see if ever you deal with users data when they fill in forms). The second however is the main issue. Having users being able to enter values, or even worse by enetering instructions, is considered a huge security black hole. **Avoid this at all costs**. Users can enter input to make your code break, act incorrectly, overflow, crash/stall a server. One of the worst example of how a user can enter malicious input is 'SQL injection', which is an example where the user enters input which appears to work correctly, throws no warnings, but results data theft. "
   ]
  },
  {
   "cell_type": "markdown",
   "metadata": {},
   "source": [
    ""
   ]
  },
  {
   "cell_type": "markdown",
   "metadata": {},
   "source": [
    "### Functions\n",
    "\n",
    "Until now we have written our code without much structure or purpose. However, for most applications it is extremely useful to bundle snippits of code into function calls, which have a relatively short and suscint purpose. This acts to help you (or someone else!) understand what your code is meant to be doing at a glance, and hide what's happening under the hood. This also avoids the need for copy and pasting.\n",
    "\n",
    "> Copying and pasting code is a cardinal sin. It makes code hard to read, extremely error prone, and impossible to maintain. **Don't do it**. If you have evey copied and pasted anything (even as small as a single line), then rethink what you're doing.  \n",
    "\n",
    "The basic format for a function is:\n",
    "```\n",
    "def function_name(arguments):\n",
    "\t\"\"\" A description! \"\"\"\n",
    "\tdo something with the arguements\n",
    "\treturn answer\n",
    "```"
   ]
  },
  {
   "cell_type": "code",
   "execution_count": 17,
   "metadata": {},
   "outputs": [
    {
     "name": "stdout",
     "output_type": "stream",
     "text": [
      "The max of 1 and 2 is 2.\nThe max of 3 and 4 is 4.\nThe max of -20 and 10 is 10.\n"
     ]
    }
   ],
   "source": [
    "def my_max(a, b):\n",
    "    \"\"\"\n",
    "    Returns the maximum of two numbers\n",
    "    :param a: Float.\n",
    "    :param b: Float.\n",
    "    :return: Float, the maximum.\n",
    "    \"\"\"\n",
    "    c = None\n",
    "\n",
    "    if a > b:\n",
    "        c = a\n",
    "    else:\n",
    "        c = b\n",
    "\n",
    "    return c\n",
    "\n",
    "\n",
    "for a, b in [[1, 2], [3, 4], [-20, 10]]:\n",
    "    print('The max of {} and {} is {}.'.format(a, b, my_max(a, b)))"
   ]
  },
  {
   "cell_type": "markdown",
   "metadata": {},
   "source": [
    "A good practice to adopt is to write assertions at the begginning of your functions. This will help you track down bugs in your code, and ensure users use it correctly. "
   ]
  },
  {
   "cell_type": "code",
   "execution_count": 30,
   "metadata": {},
   "outputs": [
    {
     "name": "stdout",
     "output_type": "stream",
     "text": [
      "I was born on a Wednesday.\nI was born on a Wednesday.\nI was born on a Friday.\nOops, something went wrong:\n\n\tday is out of range for month\n"
     ]
    }
   ],
   "source": [
    "def my_date_of_birth(year, month, day):\n",
    "    \"\"\"\n",
    "    The day of the week you were orn.\n",
    "    :param year: Int, year using the Julien calendar, assumes AD dates.\n",
    "    :param month: Int or string, month, either in 3 character format or in full. \n",
    "    :param day: Int, day of the month.\n",
    "    :return: String, weekday.\n",
    "    \"\"\"\n",
    "    assert year >= 0 and type(year) == int, 'Please input a positive year as an integer.'\n",
    "    assert type(month) == int or len(month) >= 3, 'Please input the month as a integer or as a 3 character string.'\n",
    "    assert 31 >= day >= 1 and type(day) == int, 'Please input an integer day between 1 and 31.'\n",
    "    month_to_num = dict(zip(['jan', 'feb', 'mar', 'apr', 'may', 'jun', 'jul', 'aug', 'sep', 'oct', 'nov', 'dec'], range(1, 13)))\n",
    "    if type(month) == str:\n",
    "        month = month_to_num[month.lower().strip()[:3]]\n",
    "    import datetime as dt\n",
    "    weekday = dt.datetime(year=year, month=month, day=day).strftime('%A')\n",
    "    return weekday\n",
    "\n",
    "print('I was born on a {}.'.format(my_date_of_birth(1993, 5, 19)))\n",
    "print('I was born on a {}.'.format(my_date_of_birth(1993, 'May', 19)))\n",
    "print('I was born on a {}.'.format(my_date_of_birth(1961, '  August ', 4)))\n",
    "try:\n",
    "    print('I was born on a {}.'.format(my_date_of_birth(1993, 2, 30)))\n",
    "except Exception as e:\n",
    "    print('Oops, something went wrong:')\n",
    "    print('\\n\\t{}'.format(e))"
   ]
  },
  {
   "cell_type": "markdown",
   "metadata": {},
   "source": [
    "The above example is gives some idea about how to include assertions in your code. While you may think *your code is too simple to go wrong*, this is never the case. Try to cover all the scenarios where you think something might go wrong, either when the user inputs edge cases, uses a different data-structure or format for the input, or an special cases. Try to ensure all scenarios are covered, but be warey of making too much of an effort to manipulate the user's input to work within the function. (Some programmers believe it is the user's responsibility to ensure they call the function correctly, and that the function should break readily when this is not the case). \n",
    "\n",
    "> In the above example I have combined many of the features we have encountered so far. However, this example if somewhat artifical as we can see that I have used the date facilities from the `datetime` package. This is not uncommon, and I would encourage uses to use functions (however simple) from other packages. Odds are they are better coded, better tested, and better documented than yours.\n",
    "\n",
    "> Furthermore, computing a data-type for dates is very tricky and involved if you would like to be able to use this over a large span of years (think centuries, millenia, etc), as we have changed from calendar systems. The change from the Julien to the Gregorian calendar resulted in several days being lost in some years (changing from country to country!), and some dates being odd, such as 30-th February, and some months with only 18 days. "
   ]
  },
  {
   "cell_type": "markdown",
   "metadata": {},
   "source": [
    "#### Lambda functions\n",
    "\n",
    "Lambda calculus is a branch of computational mathematics, but as far as Python is concerned this is the computable form of taking input and producing output through a simple mapping. In Python these are simple single line functions.\n",
    "\n",
    "Compare:"
   ]
  },
  {
   "cell_type": "code",
   "execution_count": 45,
   "metadata": {},
   "outputs": [
    {
     "name": "stdout",
     "output_type": "stream",
     "text": [
      "Explicit            Implicit            Input\n------------------------------------------------------------\nTrue                True                [0]\n\nTrue                True                [1]\n\nTrue                True                [0.5, 0.5]\n\nTrue                True                [0.5, 0.1, 0.3]\n\nTrue                True                [0.3, 0.3, 0.3, 0.3, 0.3, 0.3, 0.3, 0.3, 0.3, 0.3]\n\nFalse               False               [0.3, 0.3, 0.3, 0.3, 0.3, 0.3, 0.3, 0.3, 0.3, 0.3, 0.3, 0.3]\n\n"
     ]
    }
   ],
   "source": [
    "def inside_unit_sphere(*args):\n",
    "    \"\"\"\n",
    "    Determines if the arguments form a vector inside the unit sphere.\n",
    "    :param args: Floats, \n",
    "    :return: Boolean.\n",
    "    \"\"\"\n",
    "    assert len(args) >= 1, 'Please input some arguments.'\n",
    "    r = 0.0\n",
    "    for k in args:\n",
    "        r += k ** 2\n",
    "    return r <= 1.0\n",
    "\n",
    "inside_unit_sphere_2 = lambda *args: sum([i ** 2 for i in args]) <= 1.0\n",
    "\n",
    "print('{:20}{:20}{}\\n'.format('Explicit', 'Implicit', 'Input') + '-' * 60)\n",
    "for v in [[0], [1], [0.5, 0.5], [0.5, 0.1, 0.3], [0.3] * 10, [0.3] * 12]:\n",
    "    print('{:20}{:20}{}\\n'.format(str(inside_unit_sphere(*v)), str(inside_unit_sphere_2(*v)), v))\n"
   ]
  },
  {
   "cell_type": "markdown",
   "metadata": {},
   "source": [
    "Notice that the two functions above do the same thing, and the lambda function expression is a convenient way of suscintly writing some functionality. The full explicit form may be considered a but of overkill, however, it does provide room for a docstring, some assertions, and a clearer layout. While it is up to the programmer to decide which to use, lambda functions should be used sparingly, and the more explicit form of function definition is generally prefered. "
   ]
  },
  {
   "cell_type": "markdown",
   "metadata": {},
   "source": [
    "#### Variable arguements and keyword arguements\n",
    "\n",
    "We have noticed in the above the use of variable arguements, and also keyword arguments. Consider the above situation using a different norm (rather than just the Euclidean l2 norm)."
   ]
  },
  {
   "cell_type": "code",
   "execution_count": 66,
   "metadata": {},
   "outputs": [
    {
     "name": "stdout",
     "output_type": "stream",
     "text": [
      "Metric                        Norm                                    Input\n------------------------------------------------------------------------------------------\nl0                            0                                       [0]\n\nl1                            0                                       [0]\n\nl2                            0.0                                     [0]\n\ninf                           0                                       [0]\n\n3                             0.0                                     [0]\n\n5.0                           0.0                                     [0]\n\n20.0                          0.0                                     [0]\n\nl0                            1                                       [1]\n\nl1                            1                                       [1]\n\nl2                            1.0                                     [1]\n\ninf                           1                                       [1]\n\n3                             1.0                                     [1]\n\n5.0                           1.0                                     [1]\n\n20.0                          1.0                                     [1]\n\nl0                            1.5                                     [0.5, 0.5]\n\nl1                            1.0                                     [0.5, 0.5]\n\nl2                            0.866025403784                          [0.5, 0.5]\n\ninf                           0.5                                     [0.5, 0.5]\n\n3                             0.854987973338                          [0.5, 0.5]\n\n5.0                           0.881170173916                          [0.5, 0.5]\n\n20.0                          0.965936421044                          [0.5, 0.5]\n\nl0                            2.5                                     [0.5, 0.1, 0.3]\n\nl1                            0.9                                     [0.5, 0.1, 0.3]\n\nl2                            0.774596669241                          [0.5, 0.1, 0.3]\n\ninf                           0.5                                     [0.5, 0.1, 0.3]\n\n3                             0.808248004124                          [0.5, 0.1, 0.3]\n\n5.0                           0.871398566954                          [0.5, 0.1, 0.3]\n\n20.0                          0.965936328928                          [0.5, 0.1, 0.3]\n\nl0                            3.3                                     [0.3, 0.3, 0.3, 0.3]\n\nl1                            1.2                                     [0.3, 0.3, 0.3, 0.3]\n\nl2                            0.754983443527                          [0.3, 0.3, 0.3, 0.3]\n\ninf                           0.3                                     [0.3, 0.3, 0.3, 0.3]\n\n3                             0.724950452421                          [0.3, 0.3, 0.3, 0.3]\n\n5.0                           0.789786462752                          [0.3, 0.3, 0.3, 0.3]\n\n20.0                          0.941577479869                          [0.3, 0.3, 0.3, 0.3]\n\n"
     ]
    }
   ],
   "source": [
    "def norm(x=0.0, *args, **kwargs):\n",
    "    \"\"\"\n",
    "    Computes the different l-norms. \n",
    "    :param x: Float, Initial value of norm.\n",
    "    :param args: Floats, vector components.\n",
    "    :param kwargs: Dict, parameters for computing the norm. (e.g. norm).\n",
    "    :return: Bool, inside the unit sphere.\n",
    "    \"\"\"\n",
    "    defined_norms = ('l0', 'l1', 'l2', 'inf')  # And positive floats. \n",
    "    params = {'norm': 'l1'}\n",
    "    for k in kwargs.iterkeys():\n",
    "        assert k in params.iterkeys(), 'The parameter {} in the keyword arguments is not known.'.format(k)\n",
    "        params[k] = kwargs[k]\n",
    "    assert params['norm'] in defined_norms or type(params['norm']) in [float, int], 'Please input a float or integer norm value, or \\'l0/1/2\\' or \\'inf\\'.'\n",
    "    r = x\n",
    "    for i in args:\n",
    "        if params['norm'] == 'l0':\n",
    "            r += i != 0\n",
    "        elif params['norm'] == 'l1':\n",
    "            r += abs(i)\n",
    "        elif params['norm'] == 'l2':\n",
    "            r += i ** 2.0\n",
    "        elif params['norm'] == 'inf':\n",
    "            r = max(i, r)\n",
    "        else:\n",
    "            r += i ** params['norm']\n",
    "\n",
    "    if params['norm'] == 'l0':\n",
    "        pass\n",
    "    elif params['norm'] == 'l1':\n",
    "        pass\n",
    "    elif params['norm'] == 'l2':\n",
    "        r = r ** 0.5\n",
    "    elif params['norm'] == 'inf':\n",
    "        pass\n",
    "    else:\n",
    "        r = pow(r, 1.0 / params['norm'])\n",
    "        \n",
    "    return r\n",
    "\n",
    "\n",
    "print('{:<30}{:<40}{}\\n'.format('Metric', 'Norm', 'Input') + '-' * 90)\n",
    "for v in [[0], [1], [0.5, 0.5], [0.5, 0.1, 0.3], [0.3] * 4]:\n",
    "    for metric in ['l0', 'l1', 'l2', 'inf', 3, 5.0, 20.0]:\n",
    "        print('{:<30}{:<40}{}\\n'.format(metric, norm(*v, **{'norm': metric}), v))"
   ]
  },
  {
   "cell_type": "code",
   "execution_count": null,
   "metadata": {},
   "outputs": [],
   "source": [
    ""
   ]
  }
 ],
 "metadata": {
  "kernelspec": {
   "display_name": "Python 2",
   "language": "python",
   "name": "python2"
  },
  "language_info": {
   "codemirror_mode": {
    "name": "ipython",
    "version": 2.0
   },
   "file_extension": ".py",
   "mimetype": "text/x-python",
   "name": "python",
   "nbconvert_exporter": "python",
   "pygments_lexer": "ipython2",
   "version": "2.7.6"
  }
 },
 "nbformat": 4,
 "nbformat_minor": 0
}