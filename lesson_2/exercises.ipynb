{
 "cells": [
  {
   "cell_type": "markdown",
   "metadata": {
    "collapsed": true
   },
   "source": [
    "# Oxford international college\n",
    "\n",
    "## An introduction to coding\n",
    "\n",
    "### Lesson 2 - Exercises\n",
    "\n",
    "#### Author\n",
    "\n",
    "Oliver Sheridan-Methven\n",
    "\n",
    "##### Date\n",
    "\n",
    "September 2017.\n",
    "    \n",
    "#### Description:\n",
    "\n",
    "An introduction to:\n",
    "   \n",
    " * Control flow (if else, while, for)\n",
    " * Input and output (console and file).\n",
    " * Functions.\n"
   ]
  },
  {
   "cell_type": "markdown",
   "metadata": {},
   "source": [
    "## Exercises\n",
    "\n",
    "To acomplish the following tasks either write sections of executable code, or if possible bundle these into functions which can be called. Try where possible to identify any sections which may scale poorly, are bottle necks, or are likely to break. \n",
    "\n",
    ">Try to acomplish the following without using too many external packages.\n",
    "\n",
    "### Sorting lists \n",
    "\n",
    " * Given a list of numbers, sort these into ascending order (without using the python funtion `sorted`).\n",
    "\t- Sort these into descending order.\n",
    " * Find the index of all occurences of an item in a list (if any). \n",
    " * Find the maximum and minimum value in a list. \n",
    "\n",
    "### Reading and writing.\n",
    "\n",
    " * Print your name, age, and hair colour into a file (and the screen).\n",
    " * Read that same file, and put the contents into a dictionary object. \n",
    "\n",
    "### Numerical tasks \n",
    "\n",
    " * Find the greatest common denominator of two numbers. \n",
    " * Determine if a number is prime.\n",
    "\t- Do this for all the numbers less than:\n",
    "\t\t+ 10\n",
    "\t\t+ 100\n",
    "\t\t+ 1'000\n",
    "\t\t+ 10'000\n",
    "\t- If your computer is finding this easy, verify that the following are prime numbers:\n",
    "\t\t+ (10 digit prime numbers) 1500450271, 4093082899, 3367900313, etc.\n",
    "\t\t+ (a 50 digit prime number) 30762542250301270692051460539586166927291732754961\n",
    "\n",
    "### Sequences\n",
    "\n",
    " * Compute the 10-th, 100-th, 10'000-th, and 1'000'000-th:\n",
    "\t- Prime number.\n",
    "\t- Fibonacci number.\n",
    "\t- Triangle number.\n",
    "\t\n",
    " * Calculate the first 6 \"perfect numbers\".\n",
    "\t- Calculate the first 100 \"abundant numbers\".\n",
    "\n",
    "### Advanced numerics.  \n",
    "\n",
    " * Without using division (e.g. `/`, `//`, or `%`) compute 1/7, 1/10, 1/11, and 1/0.5, 1/0.034 up to:\n",
    "\t- 2 significant figures.\n",
    "\t- 6 significant figures.\n",
    "\t- 10 significant figures. \n",
    "> For all the above try binary search. Can you think of a better algorithm (NB - computers don't use binary search for division). \n",
    " * Compute \"pi\" (e.g. 3.1416...) up to 10 decimal places. \n",
    " * Compute \"e\" (e.g. 2.7183...) up to 10 decimal places. \n",
    "> There are many ways to compute these two numbers, try a few. If you're stuck then the series expansions for the two are readily available. Alternatively, I would suggest trying Monte Carlo methods for those of you who may have found this easy. "
   ]
  }
 ],
 "metadata": {
  "kernelspec": {
   "display_name": "Python 2",
   "language": "python",
   "name": "python2"
  },
  "language_info": {
   "codemirror_mode": {
    "name": "ipython",
    "version": 2
   },
   "file_extension": ".py",
   "mimetype": "text/x-python",
   "name": "python",
   "nbconvert_exporter": "python",
   "pygments_lexer": "ipython2",
   "version": "2.7.6"
  }
 },
 "nbformat": 4,
 "nbformat_minor": 0
}
