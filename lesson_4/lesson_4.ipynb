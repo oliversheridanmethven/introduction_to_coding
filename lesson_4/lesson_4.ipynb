{
 "cells": [
  {
   "cell_type": "markdown",
   "metadata": {
    "collapsed": true
   },
   "source": [
    "# Oxford international college\n",
    "\n",
    "## Introduction to coding \n",
    "\n",
    "### Author\n",
    "\n",
    "[Oliver Sheridan-Methven](mailto:oliver.sheridan-methven@maths.ox.ac.uk).\n",
    "\n",
    "#### Date\n",
    "\n",
    "September 2017.\n",
    "\n",
    "## Lesson 4\n",
    "\n",
    "> You'll notice that for this lesson there are `.py` files, \n",
    "which are regular source code files. This is dual purpose. Firstly,\n",
    "source code is easier to write, test, maintain, use with \n",
    "version control systems (such as git), and is more portable.\n",
    "Secondly, real code is not written for demonstrative purposes, but \n",
    "is usually designed to 'work under the hood'. Seeing source code\n",
    "will better prepare you for writing real world code, and setting up \n",
    "others people's code for you to use. Nonetheless, some of this \n",
    "will be transferred into notebook format for use in class. \n",
    "\n",
    "### Description\n",
    "\n",
    "In this lesson we will introduce:\n",
    "\n",
    " * Functions:\n",
    "    - Variable and keyword arguments.\n",
    "    - Partial functions. \n",
    "    - Vectorised functions.\n",
    " * Wrappers and decorators.\n",
    "    - Timing.\n",
    "    - Memory profiling.\n",
    "    - Caching.\n",
    " * Iterators and generators. \n",
    "    - `yield`.\n"
   ]
  },
  {
   "cell_type": "markdown",
   "metadata": {},
   "source": [
    "## Functions\n",
    "\n",
    "### Function arguments\n",
    "\n",
    "Often we may may have a function where we would like to extend the same functionality, but with more arguements. To see this consider the following example\n"
   ]
  },
  {
   "cell_type": "code",
   "execution_count": 2,
   "metadata": {},
   "outputs": [
    {
     "data": {
      "text/plain": [
       "4.0"
      ]
     },
     "execution_count": 2,
     "metadata": {},
     "output_type": "execute_result"
    }
   ],
   "source": [
    "def sum_2_numbers(x, y):\n",
    "    \"\"\"Sums two numbers.\"\"\"\n",
    "    return x + y\n",
    "\n",
    "sum_2_numbers(1.0, 3.0)"
   ]
  },
  {
   "cell_type": "markdown",
   "metadata": {},
   "source": [
    "Clearly, a more useful function would be able to take lots of arguments and add them together. "
   ]
  },
  {
   "cell_type": "code",
   "execution_count": 3,
   "metadata": {},
   "outputs": [
    {
     "data": {
      "text/plain": [
       "15"
      ]
     },
     "execution_count": 3,
     "metadata": {},
     "output_type": "execute_result"
    }
   ],
   "source": [
    "def sum_n_numbers(*args):\n",
    "    \"\"\"Sums many numbers\"\"\"\n",
    "    s = 0\n",
    "    for x in args:  # \"args\" will be a list.\n",
    "        s += x\n",
    "    return s\n",
    "\n",
    "\n",
    "sum_n_numbers(1, 2, 3, 4, 5)"
   ]
  },
  {
   "cell_type": "markdown",
   "metadata": {},
   "source": [
    "What we have used here is the `*args` arguement into the function signature. This stands for variable arguements. These are optional arguments which can be added.\n",
    "\n",
    "So what does the `*` represent? In Python, when the `*` is used it \"unpacks\" a list (or similar). Consider:"
   ]
  },
  {
   "cell_type": "code",
   "execution_count": 4,
   "metadata": {},
   "outputs": [
    {
     "data": {
      "text/plain": [
       "499500"
      ]
     },
     "execution_count": 4,
     "metadata": {},
     "output_type": "execute_result"
    }
   ],
   "source": [
    "sum_n_numbers(*range(1000))"
   ]
  },
  {
   "cell_type": "markdown",
   "metadata": {},
   "source": [
    "Here\n",
    "\n",
    "```\n",
    "sum_n_numbers(*range(1000))\n",
    "```\n",
    "\n",
    "This is equivalent to \n",
    "\n",
    "```\n",
    "sum_n_numbers(0, 1, 2, 3, ..., 998, 999)\n",
    "```"
   ]
  },
  {
   "cell_type": "markdown",
   "metadata": {},
   "source": [
    "#### Default and keyword arguements.\n",
    "\n",
    "Usually when we write a function, we may have some parameters on which the function depends. Similarly, we might like to suggest default values to the user. Consider the following example, where we print a name to the console, and we suggest some default value. This is acheived by decalring what the default value should equal in the function's definition."
   ]
  },
  {
   "cell_type": "code",
   "execution_count": 5,
   "metadata": {},
   "outputs": [],
   "source": [
    "def print_my_name(name='Oliver'):\n",
    "    \"\"\"Prints a name.\"\"\"\n",
    "    print name"
   ]
  },
  {
   "cell_type": "markdown",
   "metadata": {},
   "source": [
    "This can be called in several different ways. "
   ]
  },
  {
   "cell_type": "code",
   "execution_count": 6,
   "metadata": {},
   "outputs": [
    {
     "name": "stdout",
     "output_type": "stream",
     "text": [
      "Oliver\nDavid\nRaphael\n"
     ]
    }
   ],
   "source": [
    "print_my_name()  # Use the default value.\n",
    "print_my_name('David')  # Specify the first argument of the function.\n",
    "print_my_name(name='Raphael')  # Provide the value of the argument by naming it. (Order no longer important)."
   ]
  },
  {
   "cell_type": "markdown",
   "metadata": {},
   "source": [
    "Now recall that we could specify an arbitrary list of unnamed arguments using `*args`, and similarly we can also unpack a list of several named arguements, and this is achieved using `**kwargs`, (keyword arguments). Now as these come in a `name:value` pair, a natural container is a dictionary.\n",
    "\n",
    "> Only the `*` or `**` are important in the function signature, so although the convention is to call these `args` and `kwargs`, is there is a more descriptive variable name, then maybe use it. However, usually you should stick to `args` and `kwargs`, and this is what everyone usually uses!"
   ]
  },
  {
   "cell_type": "code",
   "execution_count": 8,
   "metadata": {},
   "outputs": [],
   "source": [
    "def print_names_and_ages(**names):\n",
    "    \"\"\"Prints names and ages.\"\"\"\n",
    "    for k, v in names.iteritems():\n",
    "        print('Name: {:<10}\\tAge: {}\\n'.format(k, v))"
   ]
  },
  {
   "cell_type": "code",
   "execution_count": 10,
   "metadata": {},
   "outputs": [
    {
     "name": "stdout",
     "output_type": "stream",
     "text": [
      "Name: Joseph    \tAge: 33\n\nName: Daniel    \tAge: 24\n\nName: Oliver    \tAge: 24\n\nName: Susan     \tAge: 52\n\nName: Federico  \tAge: 26\n\n"
     ]
    }
   ],
   "source": [
    "print_names_and_ages(Daniel=24, \n",
    "                     Federico=26, \n",
    "                     Joseph=33, \n",
    "                     **{'Oliver': 24, 'Susan': 52})\n"
   ]
  },
  {
   "cell_type": "markdown",
   "metadata": {},
   "source": [
    "Now, we can combine mandatory arguements, and optional arguements together in the same function signature. This takes the form:\n",
    "\n",
    "```\n",
    "def function_name(mandatory_arguments, \n",
    "                  default_value_arguments,\n",
    "                  *args,\n",
    "                  **kwargs)\n",
    "    Do something.\n",
    "```"
   ]
  },
  {
   "cell_type": "code",
   "execution_count": 12,
   "metadata": {},
   "outputs": [
    {
     "name": "stdout",
     "output_type": "stream",
     "text": [
      "students OIC\ninstructor Oliver\n"
     ]
    },
    {
     "data": {
      "text/plain": [
       "14"
      ]
     },
     "execution_count": 12,
     "metadata": {},
     "output_type": "execute_result"
    }
   ],
   "source": [
    "def example_with_all_arguments(x, y=1, *args, **kwargs):\n",
    "    \"\"\"\n",
    "    An example including:\n",
    "    :param x: Float, mandatory argument.\n",
    "    :param y: Float, mandatory argument (default y=1).\n",
    "    :param args: Floats, extra optional argument.\n",
    "    :param kwargs: Dict, extra optional argument.\n",
    "    :return: Something.\n",
    "    \"\"\"\n",
    "    z = x + y + sum(args)\n",
    "    for k, v in kwargs.iteritems(): print k, v\n",
    "    return z\n",
    "\n",
    "\n",
    "example_with_all_arguments(2, 3, 4, 5, instructor='Oliver', students='OIC')"
   ]
  },
  {
   "cell_type": "markdown",
   "metadata": {},
   "source": [
    "> In the above example, the keyword arguements are declared at the end of the function call. Have a think about why this is the case, and why this must be the case. "
   ]
  },
  {
   "cell_type": "markdown",
   "metadata": {},
   "source": [
    "### Partial functions\n",
    "\n",
    "Consider a function which has some default value:"
   ]
  },
  {
   "cell_type": "code",
   "execution_count": 20,
   "metadata": {},
   "outputs": [
    {
     "name": "stdout",
     "output_type": "stream",
     "text": [
      "5.47722557505\n5.47722557505\n"
     ]
    }
   ],
   "source": [
    "from collections import Iterable\n",
    "import numpy as np\n",
    "\n",
    "def norm(x, metric='l2'):\n",
    "    \"\"\"\n",
    "    Computes the different l-norms.\n",
    "    :param x: Iterable, vector.\n",
    "    :param metric: Str or Float, normalisation metric.\n",
    "    :return: Float, vector norm.\n",
    "    \"\"\"\n",
    "    assert isinstance(x, Iterable), 'Please enter an iterable object to compute the norm over.'\n",
    "    defined_norms = ('l0', 'l1', 'l2', 'inf')  # And positive floats.\n",
    "    assert metric in defined_norms or metric > 0, 'The metric {} must be either {} or a positive float.'.format(metric, defined_norms)\n",
    "    r = 0.0\n",
    "    for i in x:\n",
    "        if metric == 'l0':\n",
    "            r += i != 0\n",
    "        elif metric == 'l1':\n",
    "            r += abs(i)\n",
    "        elif metric == 'l2':\n",
    "            r += i ** 2.0\n",
    "        elif metric == 'inf':\n",
    "            r = max(i, r)\n",
    "        else:\n",
    "            r += i ** metric\n",
    "\n",
    "    if metric == 'l0':\n",
    "        pass\n",
    "    elif metric == 'l1':\n",
    "        pass\n",
    "    elif metric == 'l2':\n",
    "        r = r ** 0.5\n",
    "    elif metric == 'inf':\n",
    "        pass\n",
    "    else:\n",
    "        r = pow(r, 1.0 / metric)\n",
    "\n",
    "    return r\n",
    "\n",
    "x = np.array([1.0, 2.0, 3.0, 4.0])\n",
    "\n",
    "print norm(x)  # Use the default value\n",
    "print norm(x, metric='l2')  # Explicitly set the metric.\n"
   ]
  },
  {
   "cell_type": "markdown",
   "metadata": {},
   "source": [
    "Supposing we wanted to declare a variant of this function which has some different default value for one or more of its arguements. This can be acieved by creating a partial function. The `partial` function is from the `functools` module. "
   ]
  },
  {
   "cell_type": "code",
   "execution_count": 23,
   "metadata": {},
   "outputs": [
    {
     "name": "stdout",
     "output_type": "stream",
     "text": [
      "[ 1.  2.  3.  4.]\n10.0\n5.47722557505\n4.0\n"
     ]
    }
   ],
   "source": [
    "from functools import partial\n",
    "\n",
    "l_1_norm = partial(norm, metric='l1')  # Redefine the default value.\n",
    "l_2_norm = partial(norm, metric='l2')\n",
    "l_inf_norm = partial(norm, metric='inf')\n",
    "\n",
    "print x\n",
    "print l_1_norm(x)\n",
    "print l_2_norm(x)\n",
    "print l_inf_norm(x)"
   ]
  },
  {
   "cell_type": "markdown",
   "metadata": {},
   "source": [
    "### Vectorised functions\n",
    "\n",
    "Vectorised functions are useful when we have a function which was originally designed to only work on one item, but we would like ito to be able to work on many items and return a list of results. Consider the following example of a one item function:"
   ]
  },
  {
   "cell_type": "code",
   "execution_count": 24,
   "metadata": {},
   "outputs": [
    {
     "name": "stdout",
     "output_type": "stream",
     "text": [
      "1 True\n2 False\n3 True\n4 False\n5 False\n6 True\n7 False\n8 False\n9 False\n10 True\n"
     ]
    }
   ],
   "source": [
    "def is_a_triangle_number(x):\n",
    "    \"\"\"\n",
    "    Computes whether a number is a triangle number.\n",
    "    :param x: Int.\n",
    "    :return: Bool.\n",
    "    \"\"\"\n",
    "    assert isinstance(x, int) and x > 0, 'Please input an integer.'\n",
    "    i = 1\n",
    "    while x > 0:\n",
    "        x -= i\n",
    "        i += 1\n",
    "    return x == 0\n",
    "\n",
    "\n",
    "for i in range(1, 11): print i, is_a_triangle_number(i)"
   ]
  },
  {
   "cell_type": "markdown",
   "metadata": {},
   "source": [
    "We use the `np.vectorize` function wrapper to achieve a vectorised function:\n"
   ]
  },
  {
   "cell_type": "code",
   "execution_count": 26,
   "metadata": {},
   "outputs": [
    {
     "data": {
      "text/plain": [
       "array([ True, False,  True, False, False,  True, False, False, False,  True], dtype=bool)"
      ]
     },
     "execution_count": 26,
     "metadata": {},
     "output_type": "execute_result"
    }
   ],
   "source": [
    "vectorised_function = np.vectorize(is_a_triangle_number)\n",
    "vectorised_function(range(1, 11))"
   ]
  },
  {
   "cell_type": "markdown",
   "metadata": {},
   "source": [
    "> Try to design functions so they are already vectorised wherever possible, as this is not a perfect remidy. E.g. ` assert type(x) == int, 'Please input an integer.'` won't work with `np.vectorise`. This also highlights that for type checking, is it better to use `isinstance` rather than `type(x) == ...`!"
   ]
  },
  {
   "cell_type": "markdown",
   "metadata": {},
   "source": [
    "Alternatives to `np.vectorize` are python's inbuilt `map`, or list comprehension. The performance differences between these are usually case dependent, so instead concern yourself with readability!\n",
    "\n",
    "> `map` is part of the functional programming group of built in functions. Similar items in this group include `filter` and `reduce`, which can sometime be shorter than writing out list comprehensions. "
   ]
  },
  {
   "cell_type": "markdown",
   "metadata": {},
   "source": [
    "## Wrappers and decorators"
   ]
  },
  {
   "cell_type": "markdown",
   "metadata": {},
   "source": [
    "Wrappers and decorators are designed to allow a programmer to easily extend the functionality of a function (or class) easy, without interfering with the core functionality. We have already encounted an example of a function decorator with `np.vectorize`. The basic syntax for a decorator is:\n",
    "\n",
    "```\n",
    "decorator(function) -> new function\n",
    "```\n",
    " "
   ]
  },
  {
   "cell_type": "code",
   "execution_count": 54,
   "metadata": {},
   "outputs": [
    {
     "name": "stdout",
     "output_type": "stream",
     "text": [
      "'max' took 0.05598 s\n"
     ]
    },
    {
     "data": {
      "text/plain": [
       "4.8991306521819107"
      ]
     },
     "execution_count": 54,
     "metadata": {},
     "output_type": "execute_result"
    }
   ],
   "source": [
    "import time\n",
    "\n",
    "def timeit(method):\n",
    "    def timed(*args, **kwargs):\n",
    "        t_start = time.time()\n",
    "        result = method(*args, **kwargs)\n",
    "        t_end = time.time()\n",
    "        print '%r took %2.5f s' % \\\n",
    "              (method.__name__, t_end - t_start)\n",
    "        return result\n",
    "    return timed\n",
    "\n",
    "x = np.random.normal(0, 1, 10 ** 6)\n",
    "\n",
    "max_decorated = timeit(max)\n",
    "\n",
    "max_decorated(x)\n"
   ]
  },
  {
   "cell_type": "markdown",
   "metadata": {},
   "source": [
    "A wrapper is a more general form of a decorator, in which the decorating function might inself have some functional dependence. A wrapper takes the following form:"
   ]
  },
  {
   "cell_type": "code",
   "execution_count": 55,
   "metadata": {},
   "outputs": [],
   "source": [
    "def wrap(pre, post):\n",
    "    def decorate(func):\n",
    "        def call(*args, **kwargs):\n",
    "            pre(func, *args, **kwargs)\n",
    "            result = func(*args, **kwargs)\n",
    "            post(func, *args, **kwargs)\n",
    "            return result\n",
    "        return call\n",
    "    return decorate"
   ]
  },
  {
   "cell_type": "markdown",
   "metadata": {},
   "source": [
    "This can be called with optional functionality, changing how the wrapper works. "
   ]
  },
  {
   "cell_type": "markdown",
   "metadata": {},
   "source": [
    "The key benefit of wrappers and decorators is that they can be called easily, and support the Python `@` decoration syntax:"
   ]
  },
  {
   "cell_type": "code",
   "execution_count": 58,
   "metadata": {},
   "outputs": [
    {
     "name": "stdout",
     "output_type": "stream",
     "text": [
      "Entering function sum_two_numbers\nLeaving function sum_two_numbers\n"
     ]
    },
    {
     "data": {
      "text/plain": [
       "3"
      ]
     },
     "execution_count": 58,
     "metadata": {},
     "output_type": "execute_result"
    }
   ],
   "source": [
    "def trace_in(func, *args, **kwargs):\n",
    "   print \"Entering function\",  func.__name__\n",
    "\n",
    "def trace_out(func, *args, **kwargs):\n",
    "   print \"Leaving function\", func.__name__\n",
    "\n",
    "@wrap(trace_in, trace_out)\n",
    "def sum_two_numbers(x, y):\n",
    "   return x + y\n",
    "\n",
    "sum_two_numbers(1, 2)"
   ]
  },
  {
   "cell_type": "markdown",
   "metadata": {},
   "source": [
    "## Iterators and generators\n",
    "\n",
    "We have already encountered iterators, e.g. lists.\n"
   ]
  },
  {
   "cell_type": "code",
   "execution_count": 28,
   "metadata": {},
   "outputs": [
    {
     "name": "stdout",
     "output_type": "stream",
     "text": [
      "1\n2\n3\n4\n5\n"
     ]
    }
   ],
   "source": [
    "y = [1, 2, 3, 4, 5]\n",
    "\n",
    "for i in y:\n",
    "    print i"
   ]
  },
  {
   "cell_type": "markdown",
   "metadata": {},
   "source": [
    "Here `y` is an iterator, and is computed and stored in memory for the entire duriation of the `for` loop.\n",
    "\n",
    "Suppose we wanted to iterate through something more interesting, but generate the iterates as we need them, and forget them when we no longer need them:"
   ]
  },
  {
   "cell_type": "code",
   "execution_count": 33,
   "metadata": {},
   "outputs": [],
   "source": [
    "s = [j ** 2 for j in range(5)]  # Iterator\n",
    "g = (j ** 2 for j in range(5))  # Generator"
   ]
  },
  {
   "cell_type": "markdown",
   "metadata": {},
   "source": [
    "These behave much the same:"
   ]
  },
  {
   "cell_type": "code",
   "execution_count": 34,
   "metadata": {},
   "outputs": [
    {
     "name": "stdout",
     "output_type": "stream",
     "text": [
      "0\n1\n4\n9\n16\n0\n1\n4\n9\n16\n"
     ]
    }
   ],
   "source": [
    "for x in s:\n",
    "    print x\n",
    "\n",
    "for x in g:  # We compute the next element in 'g' as we go along.\n",
    "    print x"
   ]
  },
  {
   "cell_type": "markdown",
   "metadata": {},
   "source": [
    "> Using generators becomes extremely useful if the process is time or memory expensive."
   ]
  },
  {
   "cell_type": "markdown",
   "metadata": {},
   "source": [
    "Suppose we wanted something to generate the prime numbers, and we introduced the following prime number generator\n",
    "\n",
    "> NB - There is an entire field of mathematics and computing devoted the the generation of prime numbers, and this is only to demonstrate when we might use a generator."
   ]
  },
  {
   "cell_type": "code",
   "execution_count": 35,
   "metadata": {},
   "outputs": [],
   "source": [
    "def prime_numbers():\n",
    "    \"\"\"\n",
    "    A prime number generator.\n",
    "    :return: Int, prime number.\n",
    "    \"\"\"\n",
    "    x = 2\n",
    "    primes = [x]\n",
    "    yield x  # We know at least the first prime number.\n",
    "    while True:\n",
    "        if x in primes:\n",
    "            x += 1\n",
    "        else:\n",
    "            is_prime = True  # We assume the number might be prime\n",
    "            for p in primes:\n",
    "                if x % p == 0:\n",
    "                    is_prime = False  # The number clearly is not prime.\n",
    "                    x += 1\n",
    "                    break  # We do not need to check against any other prime numbers.\n",
    "            if is_prime:\n",
    "                primes.append(x)\n",
    "                yield x"
   ]
  },
  {
   "cell_type": "markdown",
   "metadata": {},
   "source": [
    "The above looks a lot like a function, but we notice that we have `yield` where we might have otherwise expected `return`. This signifies to Python that this is not a function but a generator. The significant of this is that when the generator is called again, the generator will simply carry on where it left of (all the function variables are remembered, and aren't deleted by the garbage collector!). \n",
    "\n",
    "> With these types of generators which might never end, be sure that you have code which will terminate eventually. "
   ]
  },
  {
   "cell_type": "code",
   "execution_count": 37,
   "metadata": {},
   "outputs": [
    {
     "name": "stdout",
     "output_type": "stream",
     "text": [
      "2\n3\n5\n7\n11\n13\n17\n19\n23\n29\n"
     ]
    }
   ],
   "source": [
    "i = 1\n",
    "for p in prime_numbers():\n",
    "    print p\n",
    "    i += 1\n",
    "    if i > 10:\n",
    "        break"
   ]
  },
  {
   "cell_type": "markdown",
   "metadata": {},
   "source": [
    "If we call the same generator again, it will actually construct a new generator, and so will start from the beginiining again:"
   ]
  },
  {
   "cell_type": "code",
   "execution_count": 38,
   "metadata": {},
   "outputs": [
    {
     "name": "stdout",
     "output_type": "stream",
     "text": [
      "2\n3\n5\n7\n11\n2\n3\n5\n7\n11\n"
     ]
    }
   ],
   "source": [
    "i = 1\n",
    "for p in prime_numbers():\n",
    "    print p\n",
    "    i += 1\n",
    "    if i > 5:\n",
    "        break\n",
    "        \n",
    "# And we re-use the generator from the beginning.\n",
    "\n",
    "i = 1\n",
    "for p in prime_numbers():\n",
    "    print p\n",
    "    i += 1\n",
    "    if i > 5:\n",
    "        break    "
   ]
  },
  {
   "cell_type": "markdown",
   "metadata": {},
   "source": [
    "If instead we wanted to continue using the generator, then we must create a single instance, and then refer to this instance:\n",
    "\n"
   ]
  },
  {
   "cell_type": "code",
   "execution_count": 41,
   "metadata": {},
   "outputs": [
    {
     "name": "stdout",
     "output_type": "stream",
     "text": [
      "2\n3\n5\n7\n11\n13\n17\n19\n23\n29\n"
     ]
    }
   ],
   "source": [
    "g = prime_numbers()\n",
    "\n",
    "i = 1\n",
    "for p in g:\n",
    "    print p\n",
    "    i += 1\n",
    "    if i > 5:\n",
    "        break\n",
    "        \n",
    "# We continue with the same generator where we left off. \n",
    "\n",
    "i = 1\n",
    "for p in g:\n",
    "    print p\n",
    "    i += 1\n",
    "    if i > 5:\n",
    "        break"
   ]
  },
  {
   "cell_type": "markdown",
   "metadata": {},
   "source": [
    "If a function contains the word `yield` *anywhere* in its definition, then it is a generator, not a function. This is even the case if the `yield` is inaccessible!\n",
    "\n",
    "If we mix `yield` and `return` in the definition, then the return signifies that the generator should stop, which is very useful! If the interpretor reaches the end of the generator's defining code, then it will return. Consider the following extension of the prime number generator:"
   ]
  },
  {
   "cell_type": "code",
   "execution_count": 42,
   "metadata": {},
   "outputs": [
    {
     "name": "stdout",
     "output_type": "stream",
     "text": [
      "2\n3\n5\n7\n11\n13\n17\n19\n23\n29\n"
     ]
    }
   ],
   "source": [
    "\n",
    "def n_prime_numbers(n=None, m=None):\n",
    "    \"\"\"\n",
    "    A prime number generator.\n",
    "    :param n: Int, number of prime numbers to return.\n",
    "    :param m: Int, inclusive upper bound.\n",
    "    :return: Int, prime number.\n",
    "\n",
    "    Note:\n",
    "\n",
    "        If both \"n\" and \"m\" are specified, then whichever is achieved first will cause the termination.\n",
    "        Hence, if \"n\" is very large and \"m\" is small, then \"m\" will take precedence.\n",
    "    \"\"\"\n",
    "    assert n is None or (isinstance(n, int) and n >= 0), 'Please enter a positive integer for the number of prime numbers.'\n",
    "    assert m is None or m >= 0, 'Please enter a positive upper bounding number.'\n",
    "    if m is not None:\n",
    "        m = int(m)\n",
    "    if n == 0:\n",
    "        return\n",
    "    x = 2  # We know the first prime number.\n",
    "    if m is not None and m < x:\n",
    "        return\n",
    "    primes = [x]\n",
    "    n_primes = 1  # We could recompute the length every time, but using a counter is easier.\n",
    "    yield x\n",
    "    while True:\n",
    "        if x in primes:\n",
    "            x += 1\n",
    "        else:\n",
    "            is_prime = True  # We assume the number might be prime\n",
    "            for p in primes:\n",
    "                if x % p == 0:\n",
    "                    is_prime = False  # The number clearly is not prime.\n",
    "                    x += 1\n",
    "                    break  # We do not need to check against any other prime numbers.\n",
    "            if is_prime:\n",
    "                primes.append(x)\n",
    "                n_primes += 1\n",
    "                yield x\n",
    "        if m is not None and m < x:\n",
    "            return\n",
    "        elif n is not None and n_primes >= n:\n",
    "            return\n",
    "\n",
    "for p in n_prime_numbers(n=10):\n",
    "    print p"
   ]
  }
 ],
 "metadata": {
  "kernelspec": {
   "display_name": "Python 2",
   "language": "python",
   "name": "python2"
  },
  "language_info": {
   "codemirror_mode": {
    "name": "ipython",
    "version": 2
   },
   "file_extension": ".py",
   "mimetype": "text/x-python",
   "name": "python",
   "nbconvert_exporter": "python",
   "pygments_lexer": "ipython2",
   "version": "2.7.6"
  }
 },
 "nbformat": 4,
 "nbformat_minor": 0
}
