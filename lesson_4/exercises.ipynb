{
 "cells": [
  {
   "cell_type": "markdown",
   "metadata": {
    "collapsed": true
   },
   "source": [
    "# Oxford international college\n",
    "\n",
    "## Introduction to coding \n",
    "\n",
    "### Author\n",
    "\n",
    "[Oliver Sheridan-Methven](mailto:oliver.sheridan-methven@maths.ox.ac.uk).\n",
    "\n",
    "#### Date\n",
    "\n",
    "September 2017.\n",
    "\n",
    "## Lesson 4\n",
    "\n",
    " * Functions:\n",
    "    - Variable and keyword arguments.\n",
    "    - Partial functions. \n",
    "    - Vectorised functions.\n",
    " * Wrappers and decorators.\n",
    "    - Timing.\n",
    "    - Memory profiling.\n",
    "    - Caching.\n",
    " * Iterators and generators. \n",
    "    - `yield`.\n",
    "\n"
   ]
  },
  {
   "cell_type": "markdown",
   "metadata": {},
   "source": [
    "## Exercises\n",
    "\n",
    "What does the following decorator do? When would it be useful. What are some of it's restirctions? (I have kept the name in case you want to google this, but try reverse engineering it first)."
   ]
  },
  {
   "cell_type": "code",
   "execution_count": 1,
   "metadata": {},
   "outputs": [],
   "source": [
    "from functools import wraps\n",
    "\n",
    "def memoize(function):\n",
    "    \"\"\"You'll have to work out what I do.\"\"\"\n",
    "    memo = {}\n",
    "    \n",
    "    @wraps(function)\n",
    "    def wrapper(*args):\n",
    "        if args in memo:\n",
    "            return memo[args]\n",
    "        else:\n",
    "            rv = function(*args)\n",
    "            memo[args] = rv\n",
    "            return rv\n",
    "\n",
    "    return wrapper"
   ]
  },
  {
   "cell_type": "markdown",
   "metadata": {},
   "source": [
    "> We use the [`functools.wraps`](https://docs.python.org/2/library/functools.html#functools.wraps) method, as this ensures that function names and docstrings are preserved, which is very important!"
   ]
  },
  {
   "cell_type": "markdown",
   "metadata": {},
   "source": [
    "A memory profiler is availble with `from memory_profiler import profile`. Find out how this works, and write an example using it. \n"
   ]
  },
  {
   "cell_type": "markdown",
   "metadata": {},
   "source": [
    "Web requests often use function wrappers. Read up on why this is the case. (e.g. web query resquests and time outs)."
   ]
  },
  {
   "cell_type": "markdown",
   "metadata": {},
   "source": [
    "Write decorators that do the following:\n",
    "\n",
    " * Counts the number of times a function has been called.\n",
    " * Takes a binary function `f(x, y)` and produces a function `f(x,y,z) = f(x, f(y, z))`, and hence can take multiple arguements. \n",
    "\t- Extend this to the case where `f` returns the argument if called with only a signle argument (e.g. `f(x) = x`).  \n",
    " * A wrapper which will perform various assertions. "
   ]
  }
 ],
 "metadata": {
  "kernelspec": {
   "display_name": "Python 2",
   "language": "python",
   "name": "python2"
  },
  "language_info": {
   "codemirror_mode": {
    "name": "ipython",
    "version": 2
   },
   "file_extension": ".py",
   "mimetype": "text/x-python",
   "name": "python",
   "nbconvert_exporter": "python",
   "pygments_lexer": "ipython2",
   "version": "2.7.6"
  }
 },
 "nbformat": 4,
 "nbformat_minor": 0
}
